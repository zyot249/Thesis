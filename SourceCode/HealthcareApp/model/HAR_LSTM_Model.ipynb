{
  "nbformat": 4,
  "nbformat_minor": 0,
  "metadata": {
    "kernelspec": {
      "display_name": "Python 3",
      "language": "python",
      "name": "python3"
    },
    "language_info": {
      "codemirror_mode": {
        "name": "ipython",
        "version": 3
      },
      "file_extension": ".py",
      "mimetype": "text/x-python",
      "name": "python",
      "nbconvert_exporter": "python",
      "pygments_lexer": "ipython3",
      "version": "3.6.8"
    },
    "colab": {
      "name": "Zyot-HAR-Keras-LSTM.ipynb",
      "provenance": [],
      "collapsed_sections": []
    }
  },
  "cells": [
    {
      "cell_type": "markdown",
      "metadata": {
        "id": "XX6zBLc4LfGO"
      },
      "source": [
        "## Setup"
      ]
    },
    {
      "cell_type": "code",
      "metadata": {
        "id": "VzVkXH6PkPge",
        "colab": {
          "base_uri": "https://localhost:8080/"
        },
        "outputId": "f68a3f07-fd84-4f15-dda7-8deacb6e0997"
      },
      "source": [
        "!pip install tf-nightly"
      ],
      "execution_count": null,
      "outputs": [
        {
          "output_type": "stream",
          "text": [
            "Collecting tf-nightly\n",
            "\u001b[?25l  Downloading https://files.pythonhosted.org/packages/1c/bd/c2cb86e7ee20eeba512d6d818ff43ceed836fa79917e3b111d7ff86109a3/tf_nightly-2.6.0.dev20210611-cp37-cp37m-manylinux2010_x86_64.whl (455.0MB)\n",
            "\u001b[K     |████████████████████████████████| 455.0MB 29kB/s \n",
            "\u001b[?25hRequirement already satisfied: protobuf>=3.9.2 in /usr/local/lib/python3.7/dist-packages (from tf-nightly) (3.12.4)\n",
            "Requirement already satisfied: flatbuffers~=1.12.0 in /usr/local/lib/python3.7/dist-packages (from tf-nightly) (1.12)\n",
            "Requirement already satisfied: keras-preprocessing~=1.1.2 in /usr/local/lib/python3.7/dist-packages (from tf-nightly) (1.1.2)\n",
            "Requirement already satisfied: gast==0.4.0 in /usr/local/lib/python3.7/dist-packages (from tf-nightly) (0.4.0)\n",
            "Requirement already satisfied: opt-einsum~=3.3.0 in /usr/local/lib/python3.7/dist-packages (from tf-nightly) (3.3.0)\n",
            "Collecting keras-nightly~=2.6.0.dev\n",
            "\u001b[?25l  Downloading https://files.pythonhosted.org/packages/e4/42/349c84c490f1a6b5a283f9805be1e9e865f9dc0b0345742d72b549058757/keras_nightly-2.6.0.dev2021061000-py2.py3-none-any.whl (1.3MB)\n",
            "\u001b[K     |████████████████████████████████| 1.3MB 5.9MB/s \n",
            "\u001b[?25hRequirement already satisfied: wheel~=0.35 in /usr/local/lib/python3.7/dist-packages (from tf-nightly) (0.36.2)\n",
            "Requirement already satisfied: astunparse~=1.6.3 in /usr/local/lib/python3.7/dist-packages (from tf-nightly) (1.6.3)\n",
            "Requirement already satisfied: six~=1.15.0 in /usr/local/lib/python3.7/dist-packages (from tf-nightly) (1.15.0)\n",
            "Requirement already satisfied: h5py~=3.1.0 in /usr/local/lib/python3.7/dist-packages (from tf-nightly) (3.1.0)\n",
            "Requirement already satisfied: termcolor~=1.1.0 in /usr/local/lib/python3.7/dist-packages (from tf-nightly) (1.1.0)\n",
            "Requirement already satisfied: wrapt~=1.12.1 in /usr/local/lib/python3.7/dist-packages (from tf-nightly) (1.12.1)\n",
            "Collecting tb-nightly~=2.6.0.a\n",
            "\u001b[?25l  Downloading https://files.pythonhosted.org/packages/15/f9/5abd980f36907558c5e443539c50138eb28166803736ba1d4f231189e2f4/tb_nightly-2.6.0a20210611-py3-none-any.whl (5.5MB)\n",
            "\u001b[K     |████████████████████████████████| 5.5MB 24.6MB/s \n",
            "\u001b[?25hRequirement already satisfied: numpy~=1.19.2 in /usr/local/lib/python3.7/dist-packages (from tf-nightly) (1.19.5)\n",
            "Requirement already satisfied: google-pasta~=0.2 in /usr/local/lib/python3.7/dist-packages (from tf-nightly) (0.2.0)\n",
            "Requirement already satisfied: absl-py~=0.10 in /usr/local/lib/python3.7/dist-packages (from tf-nightly) (0.12.0)\n",
            "Collecting grpcio<2.0,>=1.37.0\n",
            "\u001b[?25l  Downloading https://files.pythonhosted.org/packages/21/af/ecae3a21bed5a92c9d866480553efea18a39f103546108cd60f5ea6a2494/grpcio-1.38.0-cp37-cp37m-manylinux2014_x86_64.whl (4.2MB)\n",
            "\u001b[K     |████████████████████████████████| 4.2MB 25.1MB/s \n",
            "\u001b[?25hRequirement already satisfied: typing-extensions~=3.7.4 in /usr/local/lib/python3.7/dist-packages (from tf-nightly) (3.7.4.3)\n",
            "Collecting tf-estimator-nightly~=2.5.0.dev\n",
            "\u001b[?25l  Downloading https://files.pythonhosted.org/packages/24/6c/9bf4a6004d18c8e543845d3416e50f36dd09d272161e2fb0db5678132dfd/tf_estimator_nightly-2.5.0.dev2021032601-py2.py3-none-any.whl (462kB)\n",
            "\u001b[K     |████████████████████████████████| 471kB 33.2MB/s \n",
            "\u001b[?25hRequirement already satisfied: setuptools in /usr/local/lib/python3.7/dist-packages (from protobuf>=3.9.2->tf-nightly) (57.0.0)\n",
            "Requirement already satisfied: cached-property; python_version < \"3.8\" in /usr/local/lib/python3.7/dist-packages (from h5py~=3.1.0->tf-nightly) (1.5.2)\n",
            "Requirement already satisfied: google-auth<2,>=1.6.3 in /usr/local/lib/python3.7/dist-packages (from tb-nightly~=2.6.0.a->tf-nightly) (1.30.0)\n",
            "Requirement already satisfied: requests<3,>=2.21.0 in /usr/local/lib/python3.7/dist-packages (from tb-nightly~=2.6.0.a->tf-nightly) (2.23.0)\n",
            "Requirement already satisfied: tensorboard-plugin-wit>=1.6.0 in /usr/local/lib/python3.7/dist-packages (from tb-nightly~=2.6.0.a->tf-nightly) (1.8.0)\n",
            "Requirement already satisfied: werkzeug>=0.11.15 in /usr/local/lib/python3.7/dist-packages (from tb-nightly~=2.6.0.a->tf-nightly) (1.0.1)\n",
            "Requirement already satisfied: markdown>=2.6.8 in /usr/local/lib/python3.7/dist-packages (from tb-nightly~=2.6.0.a->tf-nightly) (3.3.4)\n",
            "Requirement already satisfied: google-auth-oauthlib<0.5,>=0.4.1 in /usr/local/lib/python3.7/dist-packages (from tb-nightly~=2.6.0.a->tf-nightly) (0.4.4)\n",
            "Requirement already satisfied: tensorboard-data-server<0.7.0,>=0.6.0 in /usr/local/lib/python3.7/dist-packages (from tb-nightly~=2.6.0.a->tf-nightly) (0.6.1)\n",
            "Requirement already satisfied: cachetools<5.0,>=2.0.0 in /usr/local/lib/python3.7/dist-packages (from google-auth<2,>=1.6.3->tb-nightly~=2.6.0.a->tf-nightly) (4.2.2)\n",
            "Requirement already satisfied: rsa<5,>=3.1.4; python_version >= \"3.6\" in /usr/local/lib/python3.7/dist-packages (from google-auth<2,>=1.6.3->tb-nightly~=2.6.0.a->tf-nightly) (4.7.2)\n",
            "Requirement already satisfied: pyasn1-modules>=0.2.1 in /usr/local/lib/python3.7/dist-packages (from google-auth<2,>=1.6.3->tb-nightly~=2.6.0.a->tf-nightly) (0.2.8)\n",
            "Requirement already satisfied: urllib3!=1.25.0,!=1.25.1,<1.26,>=1.21.1 in /usr/local/lib/python3.7/dist-packages (from requests<3,>=2.21.0->tb-nightly~=2.6.0.a->tf-nightly) (1.24.3)\n",
            "Requirement already satisfied: certifi>=2017.4.17 in /usr/local/lib/python3.7/dist-packages (from requests<3,>=2.21.0->tb-nightly~=2.6.0.a->tf-nightly) (2020.12.5)\n",
            "Requirement already satisfied: chardet<4,>=3.0.2 in /usr/local/lib/python3.7/dist-packages (from requests<3,>=2.21.0->tb-nightly~=2.6.0.a->tf-nightly) (3.0.4)\n",
            "Requirement already satisfied: idna<3,>=2.5 in /usr/local/lib/python3.7/dist-packages (from requests<3,>=2.21.0->tb-nightly~=2.6.0.a->tf-nightly) (2.10)\n",
            "Requirement already satisfied: importlib-metadata; python_version < \"3.8\" in /usr/local/lib/python3.7/dist-packages (from markdown>=2.6.8->tb-nightly~=2.6.0.a->tf-nightly) (4.0.1)\n",
            "Requirement already satisfied: requests-oauthlib>=0.7.0 in /usr/local/lib/python3.7/dist-packages (from google-auth-oauthlib<0.5,>=0.4.1->tb-nightly~=2.6.0.a->tf-nightly) (1.3.0)\n",
            "Requirement already satisfied: pyasn1>=0.1.3 in /usr/local/lib/python3.7/dist-packages (from rsa<5,>=3.1.4; python_version >= \"3.6\"->google-auth<2,>=1.6.3->tb-nightly~=2.6.0.a->tf-nightly) (0.4.8)\n",
            "Requirement already satisfied: zipp>=0.5 in /usr/local/lib/python3.7/dist-packages (from importlib-metadata; python_version < \"3.8\"->markdown>=2.6.8->tb-nightly~=2.6.0.a->tf-nightly) (3.4.1)\n",
            "Requirement already satisfied: oauthlib>=3.0.0 in /usr/local/lib/python3.7/dist-packages (from requests-oauthlib>=0.7.0->google-auth-oauthlib<0.5,>=0.4.1->tb-nightly~=2.6.0.a->tf-nightly) (3.1.0)\n",
            "\u001b[31mERROR: tensorflow 2.5.0 has requirement grpcio~=1.34.0, but you'll have grpcio 1.38.0 which is incompatible.\u001b[0m\n",
            "\u001b[31mERROR: tensorflow 2.5.0 has requirement keras-nightly~=2.5.0.dev, but you'll have keras-nightly 2.6.0.dev2021061000 which is incompatible.\u001b[0m\n",
            "Installing collected packages: keras-nightly, grpcio, tb-nightly, tf-estimator-nightly, tf-nightly\n",
            "  Found existing installation: keras-nightly 2.5.0.dev2021032900\n",
            "    Uninstalling keras-nightly-2.5.0.dev2021032900:\n",
            "      Successfully uninstalled keras-nightly-2.5.0.dev2021032900\n",
            "  Found existing installation: grpcio 1.34.1\n",
            "    Uninstalling grpcio-1.34.1:\n",
            "      Successfully uninstalled grpcio-1.34.1\n",
            "Successfully installed grpcio-1.38.0 keras-nightly-2.6.0.dev2021061000 tb-nightly-2.6.0a20210611 tf-estimator-nightly-2.5.0.dev2021032601 tf-nightly-2.6.0.dev20210611\n"
          ],
          "name": "stdout"
        }
      ]
    },
    {
      "cell_type": "code",
      "metadata": {
        "id": "7buRaIkmLfGP"
      },
      "source": [
        "import pandas as pd\n",
        "import numpy as np\n",
        "import matplotlib.pyplot as plt\n",
        "import seaborn as sns\n",
        "import tensorflow as tf\n",
        "from scipy import stats\n",
        "from sklearn import metrics\n",
        "\n",
        "\n",
        "\n",
        "%matplotlib inline\n",
        "\n",
        "import warnings\n",
        "warnings.filterwarnings('ignore')"
      ],
      "execution_count": null,
      "outputs": []
    },
    {
      "cell_type": "code",
      "metadata": {
        "colab": {
          "base_uri": "https://localhost:8080/"
        },
        "id": "OG3nRX9xLfGQ",
        "outputId": "97810632-6a7b-45fb-b5c3-c4a5d958282d"
      },
      "source": [
        "# Check if GPU is available\n",
        "if tf.test.gpu_device_name():\n",
        "    print('Default GPU Device: {}'.format(tf.test.gpu_device_name()))\n",
        "else:\n",
        "    print(\"Please install GPU version of TF\")"
      ],
      "execution_count": null,
      "outputs": [
        {
          "output_type": "stream",
          "text": [
            "Please install GPU version of TF\n"
          ],
          "name": "stdout"
        }
      ]
    },
    {
      "cell_type": "markdown",
      "metadata": {
        "id": "gGn1VUz4LfGR"
      },
      "source": [
        "## Loading and preparing train and test data"
      ]
    },
    {
      "cell_type": "markdown",
      "metadata": {
        "id": "JxBA_PHFLfGR"
      },
      "source": [
        "We use \"Sensors Activity Dataset\" by Shoaib et al. which is available for download from [here](https://www.utwente.nl/en/eemcs/ps/research/dataset/).\n",
        "There are 7 activities in this dataset: Biking, Downstairs, Jogging, Sitting, Standing, Upstairs, Walking. \n",
        "There were ten participants involved in data collection experiment who performed  each of these activities for 3-4 minutes.\n",
        "All ten participants were male, between the ages of 25 and 30. \n",
        "Each of these participants was equipped with five smartphones on five body positions: \n",
        "\n",
        "1. One in their right jean’s pocket. \n",
        "2. One in their left jean’s pocket.\n",
        "3. One on belt position towards the right leg using a belt clipper.\n",
        "4. One on the right upper arm. \n",
        "5. One on the right wrist.\n",
        "\n",
        "The data was collected for an accelerometer, a gyroscope, a magnetometer, and a linear acceleration sensor. \n",
        "Each csv file contains data for each participant's seven physical activities for all five positions. \n",
        "\n",
        "Notation in these files: \n",
        "\n",
        "Accelerometer ( Ax = x-axis, Ay = y-axis, Az= Z-aixs)   \n",
        "Linear Acceleration Sensor ( Lx = x-axis, Ly = y axis, Lz= Z-aixs)   \n",
        "Gyroscope ( Gx = x-axis, Gy = y-axis, Gz= Z-aixs)   \n",
        "Magnetometer ( Mx = x-axis, My = y-axis, Mz= Z-aixs) "
      ]
    },
    {
      "cell_type": "code",
      "metadata": {
        "colab": {
          "base_uri": "https://localhost:8080/"
        },
        "id": "JBNy-E44LfGZ",
        "outputId": "bdfae636-666e-4ef0-bec3-4e9daecc9114"
      },
      "source": [
        "# Download dataset\n",
        "! wget https://www.utwente.nl/en/eemcs/ps/dataset-folder/sensors-activity-recognition-dataset-shoaib.rar -P ../data/\n",
        "\n",
        "# Extract dataset using unrar\n",
        "!pip install unrar\n",
        "!unrar e ../data/sensors-activity-recognition-dataset-shoaib.rar ../data/"
      ],
      "execution_count": null,
      "outputs": [
        {
          "output_type": "stream",
          "text": [
            "--2021-06-17 09:23:15--  https://www.utwente.nl/en/eemcs/ps/dataset-folder/sensors-activity-recognition-dataset-shoaib.rar\n",
            "Resolving www.utwente.nl (www.utwente.nl)... 130.89.3.249, 2001:67c:2564:a102::1:1\n",
            "Connecting to www.utwente.nl (www.utwente.nl)|130.89.3.249|:443... connected.\n",
            "HTTP request sent, awaiting response... 200 OK\n",
            "Length: 100080442 (95M) [application/x-rar-compressed]\n",
            "Saving to: ‘../data/sensors-activity-recognition-dataset-shoaib.rar’\n",
            "\n",
            "sensors-activity-re 100%[===================>]  95.44M  10.7MB/s    in 11s     \n",
            "\n",
            "2021-06-17 09:23:27 (8.92 MB/s) - ‘../data/sensors-activity-recognition-dataset-shoaib.rar’ saved [100080442/100080442]\n",
            "\n",
            "Collecting unrar\n",
            "  Downloading https://files.pythonhosted.org/packages/bb/0b/53130ccd483e3db8c8a460cb579bdb21b458d5494d67a261e1a5b273fbb9/unrar-0.4-py3-none-any.whl\n",
            "Installing collected packages: unrar\n",
            "Successfully installed unrar-0.4\n",
            "\n",
            "UNRAR 5.50 freeware      Copyright (c) 1993-2017 Alexander Roshal\n",
            "\n",
            "\n",
            "Extracting from ../data/sensors-activity-recognition-dataset-shoaib.rar\n",
            "\n",
            "Extracting  ../data/Participant_1.csv                                    \b\b\b\b  0%\b\b\b\b  1%\b\b\b\b  2%\b\b\b\b  3%\b\b\b\b  4%\b\b\b\b  5%\b\b\b\b  6%\b\b\b\b  7%\b\b\b\b  8%\b\b\b\b  9%\b\b\b\b 10%\b\b\b\b\b  OK \n",
            "Extracting  ../data/Participant_10.csv                                   \b\b\b\b 10%\b\b\b\b 11%\b\b\b\b 12%\b\b\b\b 13%\b\b\b\b 14%\b\b\b\b 15%\b\b\b\b 16%\b\b\b\b 17%\b\b\b\b 18%\b\b\b\b 19%\b\b\b\b 20%\b\b\b\b\b  OK \n",
            "Extracting  ../data/Participant_2.csv                                    \b\b\b\b 20%\b\b\b\b 21%\b\b\b\b 22%\b\b\b\b 23%\b\b\b\b 24%\b\b\b\b 25%\b\b\b\b 26%\b\b\b\b 27%\b\b\b\b 28%\b\b\b\b 29%\b\b\b\b 30%\b\b\b\b\b  OK \n",
            "Extracting  ../data/Participant_3.csv                                    \b\b\b\b 30%\b\b\b\b 31%\b\b\b\b 32%\b\b\b\b 33%\b\b\b\b 34%\b\b\b\b 35%\b\b\b\b 36%\b\b\b\b 37%\b\b\b\b 38%\b\b\b\b 39%\b\b\b\b\b  OK \n",
            "Extracting  ../data/Participant_4.csv                                    \b\b\b\b 39%\b\b\b\b 40%\b\b\b\b 41%\b\b\b\b 42%\b\b\b\b 43%\b\b\b\b 44%\b\b\b\b 45%\b\b\b\b 46%\b\b\b\b 47%\b\b\b\b 48%\b\b\b\b 49%\b\b\b\b\b  OK \n",
            "Extracting  ../data/Participant_5.csv                                    \b\b\b\b 49%\b\b\b\b 50%\b\b\b\b 51%\b\b\b\b 52%\b\b\b\b 53%\b\b\b\b 54%\b\b\b\b 55%\b\b\b\b 56%\b\b\b\b 57%\b\b\b\b 58%\b\b\b\b 59%\b\b\b\b 60%\b\b\b\b\b  OK \n",
            "Extracting  ../data/Participant_6.csv                                    \b\b\b\b 60%\b\b\b\b 61%\b\b\b\b 62%\b\b\b\b 63%\b\b\b\b 64%\b\b\b\b 65%\b\b\b\b 66%\b\b\b\b 67%\b\b\b\b 68%\b\b\b\b 69%\b\b\b\b\b  OK \n",
            "Extracting  ../data/Participant_7.csv                                    \b\b\b\b 69%\b\b\b\b 70%\b\b\b\b 71%\b\b\b\b 72%\b\b\b\b 73%\b\b\b\b 74%\b\b\b\b 75%\b\b\b\b 76%\b\b\b\b 77%\b\b\b\b 78%\b\b\b\b 79%\b\b\b\b\b  OK \n",
            "Extracting  ../data/Participant_8.csv                                    \b\b\b\b 79%\b\b\b\b 80%\b\b\b\b 81%\b\b\b\b 82%\b\b\b\b 83%\b\b\b\b 84%\b\b\b\b 85%\b\b\b\b 86%\b\b\b\b 87%\b\b\b\b 88%\b\b\b\b 89%\b\b\b\b\b  OK \n",
            "Extracting  ../data/Participant_9.csv                                    \b\b\b\b 89%\b\b\b\b 90%\b\b\b\b 91%\b\b\b\b 92%\b\b\b\b 93%\b\b\b\b 94%\b\b\b\b 95%\b\b\b\b 96%\b\b\b\b 97%\b\b\b\b 98%\b\b\b\b 99%\b\b\b\b\b  OK \n",
            "Extracting  ../data/Readme.txt                                           \b\b\b\b 99%\b\b\b\b\b  OK \n",
            "All OK\n"
          ],
          "name": "stdout"
        }
      ]
    },
    {
      "cell_type": "markdown",
      "metadata": {
        "id": "XFHcgRcJLfGZ"
      },
      "source": [
        "## Loading and preparing train and test data"
      ]
    },
    {
      "cell_type": "markdown",
      "metadata": {
        "id": "zSR1C-P0LfGa"
      },
      "source": [
        "We load all 10 participants data into a single dataframe:\n"
      ]
    },
    {
      "cell_type": "code",
      "metadata": {
        "colab": {
          "base_uri": "https://localhost:8080/",
          "height": 238
        },
        "id": "08jq41enLfGa",
        "outputId": "64a7ca5f-1b0d-49f4-df12-70cee1e6c3dc"
      },
      "source": [
        "df = pd.DataFrame()\n",
        "for i in range(10):\n",
        "    df_tmp = pd.read_csv('../data/Participant_' + str(i+1) + '.csv', header=1)\n",
        "    df = pd.concat([df, df_tmp])\n",
        "\n",
        "# View top 5 rows of dataframe\n",
        "df.head()"
      ],
      "execution_count": null,
      "outputs": [
        {
          "output_type": "execute_result",
          "data": {
            "text/html": [
              "<div>\n",
              "<style scoped>\n",
              "    .dataframe tbody tr th:only-of-type {\n",
              "        vertical-align: middle;\n",
              "    }\n",
              "\n",
              "    .dataframe tbody tr th {\n",
              "        vertical-align: top;\n",
              "    }\n",
              "\n",
              "    .dataframe thead th {\n",
              "        text-align: right;\n",
              "    }\n",
              "</style>\n",
              "<table border=\"1\" class=\"dataframe\">\n",
              "  <thead>\n",
              "    <tr style=\"text-align: right;\">\n",
              "      <th></th>\n",
              "      <th>time_stamp</th>\n",
              "      <th>Ax</th>\n",
              "      <th>Ay</th>\n",
              "      <th>Az</th>\n",
              "      <th>Lx</th>\n",
              "      <th>Ly</th>\n",
              "      <th>Lz</th>\n",
              "      <th>Gx</th>\n",
              "      <th>Gy</th>\n",
              "      <th>Gz</th>\n",
              "      <th>Mx</th>\n",
              "      <th>My</th>\n",
              "      <th>Mz</th>\n",
              "      <th>Unnamed: 13</th>\n",
              "      <th>time_stamp.1</th>\n",
              "      <th>Ax.1</th>\n",
              "      <th>Ay.1</th>\n",
              "      <th>Az.1</th>\n",
              "      <th>Lx.1</th>\n",
              "      <th>Ly.1</th>\n",
              "      <th>Lz.1</th>\n",
              "      <th>Gx.1</th>\n",
              "      <th>Gy.1</th>\n",
              "      <th>Gz.1</th>\n",
              "      <th>Mx.1</th>\n",
              "      <th>My.1</th>\n",
              "      <th>Mz.1</th>\n",
              "      <th>Unnamed: 27</th>\n",
              "      <th>time_stamp.2</th>\n",
              "      <th>Ax.2</th>\n",
              "      <th>Ay.2</th>\n",
              "      <th>Az.2</th>\n",
              "      <th>Lx.2</th>\n",
              "      <th>Ly.2</th>\n",
              "      <th>Lz.2</th>\n",
              "      <th>Gx.2</th>\n",
              "      <th>Gy.2</th>\n",
              "      <th>Gz.2</th>\n",
              "      <th>Mx.2</th>\n",
              "      <th>My.2</th>\n",
              "      <th>Mz.2</th>\n",
              "      <th>Unnamed: 41</th>\n",
              "      <th>time_stamp.3</th>\n",
              "      <th>Ax.3</th>\n",
              "      <th>Ay.3</th>\n",
              "      <th>Az.3</th>\n",
              "      <th>Lx.3</th>\n",
              "      <th>Ly.3</th>\n",
              "      <th>Lz.3</th>\n",
              "      <th>Gx.3</th>\n",
              "      <th>Gy.3</th>\n",
              "      <th>Gz.3</th>\n",
              "      <th>Mx.3</th>\n",
              "      <th>My.3</th>\n",
              "      <th>Mz.3</th>\n",
              "      <th>Unnamed: 55</th>\n",
              "      <th>time_stamp.4</th>\n",
              "      <th>Ax.4</th>\n",
              "      <th>Ay.4</th>\n",
              "      <th>Az.4</th>\n",
              "      <th>Lx.4</th>\n",
              "      <th>Ly.4</th>\n",
              "      <th>Lz.4</th>\n",
              "      <th>Gx.4</th>\n",
              "      <th>Gy.4</th>\n",
              "      <th>Gz.4</th>\n",
              "      <th>Mx.4</th>\n",
              "      <th>My.4</th>\n",
              "      <th>Mz.4</th>\n",
              "      <th>Unnamed: 69</th>\n",
              "    </tr>\n",
              "  </thead>\n",
              "  <tbody>\n",
              "    <tr>\n",
              "      <th>0</th>\n",
              "      <td>1.390000e+12</td>\n",
              "      <td>-1.81150</td>\n",
              "      <td>-14.873</td>\n",
              "      <td>-1.34840</td>\n",
              "      <td>-1.26910</td>\n",
              "      <td>-5.1057</td>\n",
              "      <td>-0.66445</td>\n",
              "      <td>-0.53206</td>\n",
              "      <td>-3.18690</td>\n",
              "      <td>0.23976</td>\n",
              "      <td>12.72</td>\n",
              "      <td>40.74</td>\n",
              "      <td>-6.00</td>\n",
              "      <td>NaN</td>\n",
              "      <td>1.390000e+12</td>\n",
              "      <td>-1.19860</td>\n",
              "      <td>-13.852</td>\n",
              "      <td>3.7865</td>\n",
              "      <td>-1.76980</td>\n",
              "      <td>-4.0625</td>\n",
              "      <td>3.89850</td>\n",
              "      <td>-3.6255</td>\n",
              "      <td>1.07390</td>\n",
              "      <td>0.13622</td>\n",
              "      <td>18.84</td>\n",
              "      <td>55.92</td>\n",
              "      <td>-6.72</td>\n",
              "      <td>NaN</td>\n",
              "      <td>1.390000e+12</td>\n",
              "      <td>0.17706</td>\n",
              "      <td>-10.569</td>\n",
              "      <td>1.8251</td>\n",
              "      <td>-7.5051</td>\n",
              "      <td>-4.7736</td>\n",
              "      <td>-0.062476</td>\n",
              "      <td>-0.36652</td>\n",
              "      <td>1.27060</td>\n",
              "      <td>-0.52412</td>\n",
              "      <td>-30.30</td>\n",
              "      <td>31.08</td>\n",
              "      <td>3.96</td>\n",
              "      <td>NaN</td>\n",
              "      <td>1.390000e+12</td>\n",
              "      <td>2.79220</td>\n",
              "      <td>-12.5720</td>\n",
              "      <td>-4.3177</td>\n",
              "      <td>-0.098712</td>\n",
              "      <td>-3.385700</td>\n",
              "      <td>-2.46480</td>\n",
              "      <td>0.021075</td>\n",
              "      <td>1.02990</td>\n",
              "      <td>1.22690</td>\n",
              "      <td>-18.72</td>\n",
              "      <td>31.74</td>\n",
              "      <td>17.82</td>\n",
              "      <td>NaN</td>\n",
              "      <td>1.390000e+12</td>\n",
              "      <td>4.3177</td>\n",
              "      <td>-2.36990</td>\n",
              "      <td>-0.43585</td>\n",
              "      <td>-5.3574</td>\n",
              "      <td>-0.95749</td>\n",
              "      <td>0.318860</td>\n",
              "      <td>0.52565</td>\n",
              "      <td>-0.18815</td>\n",
              "      <td>0.285880</td>\n",
              "      <td>-22.20</td>\n",
              "      <td>6.48</td>\n",
              "      <td>4.56</td>\n",
              "      <td>walking</td>\n",
              "    </tr>\n",
              "    <tr>\n",
              "      <th>1</th>\n",
              "      <td>1.390000e+12</td>\n",
              "      <td>0.24517</td>\n",
              "      <td>-14.070</td>\n",
              "      <td>-0.84446</td>\n",
              "      <td>0.70147</td>\n",
              "      <td>-4.2969</td>\n",
              "      <td>-0.17199</td>\n",
              "      <td>-0.25229</td>\n",
              "      <td>-1.79660</td>\n",
              "      <td>0.40745</td>\n",
              "      <td>12.54</td>\n",
              "      <td>40.74</td>\n",
              "      <td>-6.78</td>\n",
              "      <td>NaN</td>\n",
              "      <td>1.390000e+12</td>\n",
              "      <td>-2.38360</td>\n",
              "      <td>-16.590</td>\n",
              "      <td>2.9965</td>\n",
              "      <td>-2.70250</td>\n",
              "      <td>-6.7890</td>\n",
              "      <td>2.86820</td>\n",
              "      <td>-3.4899</td>\n",
              "      <td>0.39034</td>\n",
              "      <td>0.40073</td>\n",
              "      <td>18.60</td>\n",
              "      <td>55.86</td>\n",
              "      <td>-6.06</td>\n",
              "      <td>NaN</td>\n",
              "      <td>1.390000e+12</td>\n",
              "      <td>0.16344</td>\n",
              "      <td>-12.190</td>\n",
              "      <td>2.0703</td>\n",
              "      <td>-7.3573</td>\n",
              "      <td>-6.2618</td>\n",
              "      <td>-0.042442</td>\n",
              "      <td>-0.54459</td>\n",
              "      <td>1.28070</td>\n",
              "      <td>0.34025</td>\n",
              "      <td>-31.02</td>\n",
              "      <td>29.88</td>\n",
              "      <td>3.36</td>\n",
              "      <td>NaN</td>\n",
              "      <td>1.390000e+12</td>\n",
              "      <td>2.38360</td>\n",
              "      <td>-10.9920</td>\n",
              "      <td>-4.6037</td>\n",
              "      <td>-0.404440</td>\n",
              "      <td>-1.774500</td>\n",
              "      <td>-2.74830</td>\n",
              "      <td>0.201890</td>\n",
              "      <td>0.53573</td>\n",
              "      <td>1.32280</td>\n",
              "      <td>-18.84</td>\n",
              "      <td>31.74</td>\n",
              "      <td>17.70</td>\n",
              "      <td>NaN</td>\n",
              "      <td>1.390000e+12</td>\n",
              "      <td>5.1213</td>\n",
              "      <td>-2.19290</td>\n",
              "      <td>-0.70826</td>\n",
              "      <td>-4.5352</td>\n",
              "      <td>-0.67629</td>\n",
              "      <td>0.081656</td>\n",
              "      <td>0.43616</td>\n",
              "      <td>0.16371</td>\n",
              "      <td>0.198230</td>\n",
              "      <td>-21.90</td>\n",
              "      <td>7.14</td>\n",
              "      <td>5.34</td>\n",
              "      <td>walking</td>\n",
              "    </tr>\n",
              "    <tr>\n",
              "      <th>2</th>\n",
              "      <td>1.390000e+12</td>\n",
              "      <td>-0.57205</td>\n",
              "      <td>-14.628</td>\n",
              "      <td>-1.75700</td>\n",
              "      <td>-0.21760</td>\n",
              "      <td>-4.8531</td>\n",
              "      <td>-1.05650</td>\n",
              "      <td>-1.04920</td>\n",
              "      <td>0.29138</td>\n",
              "      <td>0.29230</td>\n",
              "      <td>12.42</td>\n",
              "      <td>40.68</td>\n",
              "      <td>-8.10</td>\n",
              "      <td>NaN</td>\n",
              "      <td>1.390000e+12</td>\n",
              "      <td>-4.63090</td>\n",
              "      <td>-16.603</td>\n",
              "      <td>2.0703</td>\n",
              "      <td>-4.34550</td>\n",
              "      <td>-6.8081</td>\n",
              "      <td>1.68890</td>\n",
              "      <td>-3.3851</td>\n",
              "      <td>-1.99200</td>\n",
              "      <td>1.12280</td>\n",
              "      <td>18.72</td>\n",
              "      <td>55.80</td>\n",
              "      <td>-4.26</td>\n",
              "      <td>NaN</td>\n",
              "      <td>1.390000e+12</td>\n",
              "      <td>0.57205</td>\n",
              "      <td>-12.626</td>\n",
              "      <td>2.2474</td>\n",
              "      <td>-6.7655</td>\n",
              "      <td>-6.5138</td>\n",
              "      <td>0.017921</td>\n",
              "      <td>-0.70952</td>\n",
              "      <td>1.15820</td>\n",
              "      <td>0.99724</td>\n",
              "      <td>-31.26</td>\n",
              "      <td>29.22</td>\n",
              "      <td>3.24</td>\n",
              "      <td>NaN</td>\n",
              "      <td>1.390000e+12</td>\n",
              "      <td>1.56630</td>\n",
              "      <td>-9.0848</td>\n",
              "      <td>-4.5764</td>\n",
              "      <td>-1.003600</td>\n",
              "      <td>0.201530</td>\n",
              "      <td>-2.75150</td>\n",
              "      <td>0.287720</td>\n",
              "      <td>0.10049</td>\n",
              "      <td>1.20710</td>\n",
              "      <td>-19.02</td>\n",
              "      <td>31.68</td>\n",
              "      <td>17.52</td>\n",
              "      <td>NaN</td>\n",
              "      <td>1.390000e+12</td>\n",
              "      <td>5.6116</td>\n",
              "      <td>-2.12480</td>\n",
              "      <td>-1.26670</td>\n",
              "      <td>-4.0408</td>\n",
              "      <td>-0.55974</td>\n",
              "      <td>-0.523690</td>\n",
              "      <td>0.32284</td>\n",
              "      <td>0.43127</td>\n",
              "      <td>0.211970</td>\n",
              "      <td>-21.60</td>\n",
              "      <td>7.50</td>\n",
              "      <td>5.64</td>\n",
              "      <td>walking</td>\n",
              "    </tr>\n",
              "    <tr>\n",
              "      <th>3</th>\n",
              "      <td>1.390000e+12</td>\n",
              "      <td>-0.69464</td>\n",
              "      <td>-12.939</td>\n",
              "      <td>-3.09180</td>\n",
              "      <td>-0.32273</td>\n",
              "      <td>-3.1786</td>\n",
              "      <td>-2.21970</td>\n",
              "      <td>-2.37200</td>\n",
              "      <td>1.00820</td>\n",
              "      <td>0.34972</td>\n",
              "      <td>12.30</td>\n",
              "      <td>40.74</td>\n",
              "      <td>-8.52</td>\n",
              "      <td>NaN</td>\n",
              "      <td>1.390000e+12</td>\n",
              "      <td>-4.78070</td>\n",
              "      <td>-16.453</td>\n",
              "      <td>1.1577</td>\n",
              "      <td>-4.19540</td>\n",
              "      <td>-6.6731</td>\n",
              "      <td>0.74084</td>\n",
              "      <td>-3.1017</td>\n",
              "      <td>-3.04390</td>\n",
              "      <td>0.79138</td>\n",
              "      <td>18.84</td>\n",
              "      <td>55.62</td>\n",
              "      <td>-3.12</td>\n",
              "      <td>NaN</td>\n",
              "      <td>1.390000e+12</td>\n",
              "      <td>1.21220</td>\n",
              "      <td>-12.476</td>\n",
              "      <td>2.2882</td>\n",
              "      <td>-5.9716</td>\n",
              "      <td>-6.1990</td>\n",
              "      <td>0.016760</td>\n",
              "      <td>-0.78191</td>\n",
              "      <td>1.10200</td>\n",
              "      <td>1.33380</td>\n",
              "      <td>-31.44</td>\n",
              "      <td>28.80</td>\n",
              "      <td>3.24</td>\n",
              "      <td>NaN</td>\n",
              "      <td>1.390000e+12</td>\n",
              "      <td>-0.61292</td>\n",
              "      <td>-8.5263</td>\n",
              "      <td>-2.9284</td>\n",
              "      <td>-2.827100</td>\n",
              "      <td>0.859490</td>\n",
              "      <td>-1.14670</td>\n",
              "      <td>0.175930</td>\n",
              "      <td>-0.21441</td>\n",
              "      <td>0.90469</td>\n",
              "      <td>-18.96</td>\n",
              "      <td>31.86</td>\n",
              "      <td>17.22</td>\n",
              "      <td>NaN</td>\n",
              "      <td>1.390000e+12</td>\n",
              "      <td>6.0611</td>\n",
              "      <td>-1.47100</td>\n",
              "      <td>-2.47890</td>\n",
              "      <td>-3.5908</td>\n",
              "      <td>0.15795</td>\n",
              "      <td>-1.880200</td>\n",
              "      <td>0.20403</td>\n",
              "      <td>0.72846</td>\n",
              "      <td>0.164930</td>\n",
              "      <td>-21.12</td>\n",
              "      <td>8.40</td>\n",
              "      <td>6.12</td>\n",
              "      <td>walking</td>\n",
              "    </tr>\n",
              "    <tr>\n",
              "      <th>4</th>\n",
              "      <td>1.390000e+12</td>\n",
              "      <td>0.87170</td>\n",
              "      <td>-12.000</td>\n",
              "      <td>-1.56630</td>\n",
              "      <td>1.13740</td>\n",
              "      <td>-2.2390</td>\n",
              "      <td>-0.65476</td>\n",
              "      <td>-2.79010</td>\n",
              "      <td>0.65485</td>\n",
              "      <td>0.22724</td>\n",
              "      <td>12.24</td>\n",
              "      <td>40.80</td>\n",
              "      <td>-8.88</td>\n",
              "      <td>NaN</td>\n",
              "      <td>1.390000e+12</td>\n",
              "      <td>-0.92618</td>\n",
              "      <td>-12.190</td>\n",
              "      <td>-1.0624</td>\n",
              "      <td>-0.18116</td>\n",
              "      <td>-2.4144</td>\n",
              "      <td>-1.28500</td>\n",
              "      <td>-2.7587</td>\n",
              "      <td>-4.46020</td>\n",
              "      <td>0.69364</td>\n",
              "      <td>19.38</td>\n",
              "      <td>55.44</td>\n",
              "      <td>-0.84</td>\n",
              "      <td>NaN</td>\n",
              "      <td>1.390000e+12</td>\n",
              "      <td>2.24740</td>\n",
              "      <td>-11.387</td>\n",
              "      <td>1.9886</td>\n",
              "      <td>-4.6603</td>\n",
              "      <td>-4.8230</td>\n",
              "      <td>-0.329740</td>\n",
              "      <td>-0.82436</td>\n",
              "      <td>0.90561</td>\n",
              "      <td>2.15600</td>\n",
              "      <td>-31.56</td>\n",
              "      <td>28.32</td>\n",
              "      <td>3.30</td>\n",
              "      <td>NaN</td>\n",
              "      <td>1.390000e+12</td>\n",
              "      <td>-1.18500</td>\n",
              "      <td>-9.3436</td>\n",
              "      <td>-2.2337</td>\n",
              "      <td>-3.209900</td>\n",
              "      <td>0.085583</td>\n",
              "      <td>-0.45569</td>\n",
              "      <td>-0.033292</td>\n",
              "      <td>-0.48625</td>\n",
              "      <td>0.60720</td>\n",
              "      <td>-18.84</td>\n",
              "      <td>32.10</td>\n",
              "      <td>17.04</td>\n",
              "      <td>NaN</td>\n",
              "      <td>1.390000e+12</td>\n",
              "      <td>7.7091</td>\n",
              "      <td>-0.77636</td>\n",
              "      <td>-3.54130</td>\n",
              "      <td>-1.9450</td>\n",
              "      <td>0.85796</td>\n",
              "      <td>-2.995300</td>\n",
              "      <td>0.09896</td>\n",
              "      <td>0.94379</td>\n",
              "      <td>0.064752</td>\n",
              "      <td>-20.94</td>\n",
              "      <td>8.70</td>\n",
              "      <td>6.30</td>\n",
              "      <td>walking</td>\n",
              "    </tr>\n",
              "  </tbody>\n",
              "</table>\n",
              "</div>"
            ],
            "text/plain": [
              "     time_stamp       Ax      Ay       Az  ...   Mx.4  My.4  Mz.4  Unnamed: 69\n",
              "0  1.390000e+12 -1.81150 -14.873 -1.34840  ... -22.20  6.48  4.56      walking\n",
              "1  1.390000e+12  0.24517 -14.070 -0.84446  ... -21.90  7.14  5.34      walking\n",
              "2  1.390000e+12 -0.57205 -14.628 -1.75700  ... -21.60  7.50  5.64      walking\n",
              "3  1.390000e+12 -0.69464 -12.939 -3.09180  ... -21.12  8.40  6.12      walking\n",
              "4  1.390000e+12  0.87170 -12.000 -1.56630  ... -20.94  8.70  6.30      walking\n",
              "\n",
              "[5 rows x 70 columns]"
            ]
          },
          "metadata": {
            "tags": []
          },
          "execution_count": 4
        }
      ]
    },
    {
      "cell_type": "code",
      "metadata": {
        "colab": {
          "base_uri": "https://localhost:8080/",
          "height": 115
        },
        "id": "u-gsBEo6TGbB",
        "outputId": "ceecdfb9-017a-410a-a67b-75b0850af18e"
      },
      "source": [
        "df.head(1)"
      ],
      "execution_count": null,
      "outputs": [
        {
          "output_type": "execute_result",
          "data": {
            "text/html": [
              "<div>\n",
              "<style scoped>\n",
              "    .dataframe tbody tr th:only-of-type {\n",
              "        vertical-align: middle;\n",
              "    }\n",
              "\n",
              "    .dataframe tbody tr th {\n",
              "        vertical-align: top;\n",
              "    }\n",
              "\n",
              "    .dataframe thead th {\n",
              "        text-align: right;\n",
              "    }\n",
              "</style>\n",
              "<table border=\"1\" class=\"dataframe\">\n",
              "  <thead>\n",
              "    <tr style=\"text-align: right;\">\n",
              "      <th></th>\n",
              "      <th>time_stamp</th>\n",
              "      <th>Ax</th>\n",
              "      <th>Ay</th>\n",
              "      <th>Az</th>\n",
              "      <th>Lx</th>\n",
              "      <th>Ly</th>\n",
              "      <th>Lz</th>\n",
              "      <th>Gx</th>\n",
              "      <th>Gy</th>\n",
              "      <th>Gz</th>\n",
              "      <th>Mx</th>\n",
              "      <th>My</th>\n",
              "      <th>Mz</th>\n",
              "      <th>Unnamed: 13</th>\n",
              "      <th>time_stamp.1</th>\n",
              "      <th>Ax.1</th>\n",
              "      <th>Ay.1</th>\n",
              "      <th>Az.1</th>\n",
              "      <th>Lx.1</th>\n",
              "      <th>Ly.1</th>\n",
              "      <th>Lz.1</th>\n",
              "      <th>Gx.1</th>\n",
              "      <th>Gy.1</th>\n",
              "      <th>Gz.1</th>\n",
              "      <th>Mx.1</th>\n",
              "      <th>My.1</th>\n",
              "      <th>Mz.1</th>\n",
              "      <th>Unnamed: 27</th>\n",
              "      <th>time_stamp.2</th>\n",
              "      <th>Ax.2</th>\n",
              "      <th>Ay.2</th>\n",
              "      <th>Az.2</th>\n",
              "      <th>Lx.2</th>\n",
              "      <th>Ly.2</th>\n",
              "      <th>Lz.2</th>\n",
              "      <th>Gx.2</th>\n",
              "      <th>Gy.2</th>\n",
              "      <th>Gz.2</th>\n",
              "      <th>Mx.2</th>\n",
              "      <th>My.2</th>\n",
              "      <th>Mz.2</th>\n",
              "      <th>Unnamed: 41</th>\n",
              "      <th>time_stamp.3</th>\n",
              "      <th>Ax.3</th>\n",
              "      <th>Ay.3</th>\n",
              "      <th>Az.3</th>\n",
              "      <th>Lx.3</th>\n",
              "      <th>Ly.3</th>\n",
              "      <th>Lz.3</th>\n",
              "      <th>Gx.3</th>\n",
              "      <th>Gy.3</th>\n",
              "      <th>Gz.3</th>\n",
              "      <th>Mx.3</th>\n",
              "      <th>My.3</th>\n",
              "      <th>Mz.3</th>\n",
              "      <th>Unnamed: 55</th>\n",
              "      <th>time_stamp.4</th>\n",
              "      <th>Ax.4</th>\n",
              "      <th>Ay.4</th>\n",
              "      <th>Az.4</th>\n",
              "      <th>Lx.4</th>\n",
              "      <th>Ly.4</th>\n",
              "      <th>Lz.4</th>\n",
              "      <th>Gx.4</th>\n",
              "      <th>Gy.4</th>\n",
              "      <th>Gz.4</th>\n",
              "      <th>Mx.4</th>\n",
              "      <th>My.4</th>\n",
              "      <th>Mz.4</th>\n",
              "      <th>Unnamed: 69</th>\n",
              "    </tr>\n",
              "  </thead>\n",
              "  <tbody>\n",
              "    <tr>\n",
              "      <th>0</th>\n",
              "      <td>1.390000e+12</td>\n",
              "      <td>-1.8115</td>\n",
              "      <td>-14.873</td>\n",
              "      <td>-1.3484</td>\n",
              "      <td>-1.2691</td>\n",
              "      <td>-5.1057</td>\n",
              "      <td>-0.66445</td>\n",
              "      <td>-0.53206</td>\n",
              "      <td>-3.1869</td>\n",
              "      <td>0.23976</td>\n",
              "      <td>12.72</td>\n",
              "      <td>40.74</td>\n",
              "      <td>-6.0</td>\n",
              "      <td>NaN</td>\n",
              "      <td>1.390000e+12</td>\n",
              "      <td>-1.1986</td>\n",
              "      <td>-13.852</td>\n",
              "      <td>3.7865</td>\n",
              "      <td>-1.7698</td>\n",
              "      <td>-4.0625</td>\n",
              "      <td>3.8985</td>\n",
              "      <td>-3.6255</td>\n",
              "      <td>1.0739</td>\n",
              "      <td>0.13622</td>\n",
              "      <td>18.84</td>\n",
              "      <td>55.92</td>\n",
              "      <td>-6.72</td>\n",
              "      <td>NaN</td>\n",
              "      <td>1.390000e+12</td>\n",
              "      <td>0.17706</td>\n",
              "      <td>-10.569</td>\n",
              "      <td>1.8251</td>\n",
              "      <td>-7.5051</td>\n",
              "      <td>-4.7736</td>\n",
              "      <td>-0.062476</td>\n",
              "      <td>-0.36652</td>\n",
              "      <td>1.2706</td>\n",
              "      <td>-0.52412</td>\n",
              "      <td>-30.3</td>\n",
              "      <td>31.08</td>\n",
              "      <td>3.96</td>\n",
              "      <td>NaN</td>\n",
              "      <td>1.390000e+12</td>\n",
              "      <td>2.7922</td>\n",
              "      <td>-12.572</td>\n",
              "      <td>-4.3177</td>\n",
              "      <td>-0.098712</td>\n",
              "      <td>-3.3857</td>\n",
              "      <td>-2.4648</td>\n",
              "      <td>0.021075</td>\n",
              "      <td>1.0299</td>\n",
              "      <td>1.2269</td>\n",
              "      <td>-18.72</td>\n",
              "      <td>31.74</td>\n",
              "      <td>17.82</td>\n",
              "      <td>NaN</td>\n",
              "      <td>1.390000e+12</td>\n",
              "      <td>4.3177</td>\n",
              "      <td>-2.3699</td>\n",
              "      <td>-0.43585</td>\n",
              "      <td>-5.3574</td>\n",
              "      <td>-0.95749</td>\n",
              "      <td>0.31886</td>\n",
              "      <td>0.52565</td>\n",
              "      <td>-0.18815</td>\n",
              "      <td>0.28588</td>\n",
              "      <td>-22.2</td>\n",
              "      <td>6.48</td>\n",
              "      <td>4.56</td>\n",
              "      <td>walking</td>\n",
              "    </tr>\n",
              "  </tbody>\n",
              "</table>\n",
              "</div>"
            ],
            "text/plain": [
              "     time_stamp      Ax      Ay      Az  ...  Mx.4  My.4  Mz.4  Unnamed: 69\n",
              "0  1.390000e+12 -1.8115 -14.873 -1.3484  ... -22.2  6.48  4.56      walking\n",
              "\n",
              "[1 rows x 70 columns]"
            ]
          },
          "metadata": {
            "tags": []
          },
          "execution_count": 5
        }
      ]
    },
    {
      "cell_type": "markdown",
      "metadata": {
        "id": "eNei4t4qLfGa"
      },
      "source": [
        "Now we split data into train and test sets (80% train, 20% test):\n"
      ]
    },
    {
      "cell_type": "code",
      "metadata": {
        "colab": {
          "base_uri": "https://localhost:8080/"
        },
        "id": "erAKt6ArLfGa",
        "outputId": "9cf4f0d4-75c9-4ad1-fe60-8b7c57aa3b1e"
      },
      "source": [
        "split_point = int(len(df) * 0.8)\n",
        "train_data = df.iloc[:split_point, :]\n",
        "test_data = df.iloc[split_point:, :]\n",
        "\n",
        "print(\"Number of train spamples: \", len(train_data))\n",
        "print(\"Number of test spamples: \", len(test_data))"
      ],
      "execution_count": null,
      "outputs": [
        {
          "output_type": "stream",
          "text": [
            "Number of train spamples:  504000\n",
            "Number of test spamples:  126000\n"
          ],
          "name": "stdout"
        }
      ]
    },
    {
      "cell_type": "markdown",
      "metadata": {
        "id": "g-3TrPdWLfGb"
      },
      "source": [
        "As we only use right pocket's and left pocket's data, we should concatenate those into a single data frame:"
      ]
    },
    {
      "cell_type": "code",
      "metadata": {
        "id": "UhahvwGeLfGb"
      },
      "source": [
        "def concat(data):\n",
        "    \n",
        "    # Select left pocket data\n",
        "    left_pocket = data.iloc[:,1:10]\n",
        "    \n",
        "    #Square root of sum of squares of accelerometer, linear acceleration and gyroscope data\n",
        "    left_pocket[\"MA\"] = np.sqrt(np.square(left_pocket['Ax']) + np.square(left_pocket['Ay']) + np.square(left_pocket['Az']))\n",
        "    left_pocket[\"ML\"] = np.sqrt(np.square(left_pocket['Lx']) + np.square(left_pocket['Ly']) + np.square(left_pocket['Lz']))\n",
        "    left_pocket[\"MG\"] = np.sqrt(np.square(left_pocket['Gx']) + np.square(left_pocket['Gy']) + np.square(left_pocket['Gz']))\n",
        "    \n",
        "\n",
        "    # Select right pocket data\n",
        "    right_pocket = data.iloc[:,15:24]\n",
        "    right_pocket.columns=['Ax', 'Ay', 'Az', 'Lx', 'Ly', 'Lz', 'Gx', 'Gy', 'Gz']\n",
        "    \n",
        "    #Square root of sum of squares of accelerometer, linear acceleration and gyroscope data\n",
        "    right_pocket[\"MA\"] = np.sqrt(np.square(right_pocket['Ax']) + np.square(right_pocket['Ay']) + np.square(right_pocket['Az']))\n",
        "    right_pocket[\"ML\"] = np.sqrt(np.square(right_pocket['Lx']) + np.square(right_pocket['Ly']) + np.square(right_pocket['Lz']))\n",
        "    right_pocket[\"MG\"] = np.sqrt(np.square(right_pocket['Gx']) + np.square(right_pocket['Gy']) + np.square(right_pocket['Gz']))\n",
        "\n",
        "    \n",
        "    # Extract labels \n",
        "    labels = data.iloc[:, 69] \n",
        "    labels = labels.to_frame()\n",
        "    labels.columns=['Activity_Label']\n",
        "    labels = pd.concat([labels]*2, ignore_index=True)\n",
        "    #replace typo 'upsatirs' with upstairs! \n",
        "    labels.loc[(labels['Activity_Label'] == 'upsatirs')] = 'upstairs'\n",
        "    \n",
        "    #Concatenate left pocket and right pocket data into a single data frame (we only use left pocket and right pocket data)\n",
        "    frames = [left_pocket, right_pocket]\n",
        "    df = pd.concat(frames)\n",
        "   \n",
        "    return df, labels\n",
        "\n",
        "# Generate input data and labels\n",
        "train_X, train_y = concat(train_data)\n",
        "test_X, test_y = concat(test_data)"
      ],
      "execution_count": null,
      "outputs": []
    },
    {
      "cell_type": "code",
      "metadata": {
        "colab": {
          "base_uri": "https://localhost:8080/",
          "height": 202
        },
        "id": "OUi7qlGhLfGb",
        "outputId": "6bc859c1-b166-4c22-9710-2b9b95bd9829"
      },
      "source": [
        "train_X.head(5)"
      ],
      "execution_count": null,
      "outputs": [
        {
          "output_type": "execute_result",
          "data": {
            "text/html": [
              "<div>\n",
              "<style scoped>\n",
              "    .dataframe tbody tr th:only-of-type {\n",
              "        vertical-align: middle;\n",
              "    }\n",
              "\n",
              "    .dataframe tbody tr th {\n",
              "        vertical-align: top;\n",
              "    }\n",
              "\n",
              "    .dataframe thead th {\n",
              "        text-align: right;\n",
              "    }\n",
              "</style>\n",
              "<table border=\"1\" class=\"dataframe\">\n",
              "  <thead>\n",
              "    <tr style=\"text-align: right;\">\n",
              "      <th></th>\n",
              "      <th>Ax</th>\n",
              "      <th>Ay</th>\n",
              "      <th>Az</th>\n",
              "      <th>Lx</th>\n",
              "      <th>Ly</th>\n",
              "      <th>Lz</th>\n",
              "      <th>Gx</th>\n",
              "      <th>Gy</th>\n",
              "      <th>Gz</th>\n",
              "      <th>MA</th>\n",
              "      <th>ML</th>\n",
              "      <th>MG</th>\n",
              "    </tr>\n",
              "  </thead>\n",
              "  <tbody>\n",
              "    <tr>\n",
              "      <th>0</th>\n",
              "      <td>-1.81150</td>\n",
              "      <td>-14.873</td>\n",
              "      <td>-1.34840</td>\n",
              "      <td>-1.26910</td>\n",
              "      <td>-5.1057</td>\n",
              "      <td>-0.66445</td>\n",
              "      <td>-0.53206</td>\n",
              "      <td>-3.18690</td>\n",
              "      <td>0.23976</td>\n",
              "      <td>15.043465</td>\n",
              "      <td>5.302856</td>\n",
              "      <td>3.239893</td>\n",
              "    </tr>\n",
              "    <tr>\n",
              "      <th>1</th>\n",
              "      <td>0.24517</td>\n",
              "      <td>-14.070</td>\n",
              "      <td>-0.84446</td>\n",
              "      <td>0.70147</td>\n",
              "      <td>-4.2969</td>\n",
              "      <td>-0.17199</td>\n",
              "      <td>-0.25229</td>\n",
              "      <td>-1.79660</td>\n",
              "      <td>0.40745</td>\n",
              "      <td>14.097451</td>\n",
              "      <td>4.357177</td>\n",
              "      <td>1.859419</td>\n",
              "    </tr>\n",
              "    <tr>\n",
              "      <th>2</th>\n",
              "      <td>-0.57205</td>\n",
              "      <td>-14.628</td>\n",
              "      <td>-1.75700</td>\n",
              "      <td>-0.21760</td>\n",
              "      <td>-4.8531</td>\n",
              "      <td>-1.05650</td>\n",
              "      <td>-1.04920</td>\n",
              "      <td>0.29138</td>\n",
              "      <td>0.29230</td>\n",
              "      <td>14.744242</td>\n",
              "      <td>4.971531</td>\n",
              "      <td>1.127458</td>\n",
              "    </tr>\n",
              "    <tr>\n",
              "      <th>3</th>\n",
              "      <td>-0.69464</td>\n",
              "      <td>-12.939</td>\n",
              "      <td>-3.09180</td>\n",
              "      <td>-0.32273</td>\n",
              "      <td>-3.1786</td>\n",
              "      <td>-2.21970</td>\n",
              "      <td>-2.37200</td>\n",
              "      <td>1.00820</td>\n",
              "      <td>0.34972</td>\n",
              "      <td>13.321392</td>\n",
              "      <td>3.890337</td>\n",
              "      <td>2.600991</td>\n",
              "    </tr>\n",
              "    <tr>\n",
              "      <th>4</th>\n",
              "      <td>0.87170</td>\n",
              "      <td>-12.000</td>\n",
              "      <td>-1.56630</td>\n",
              "      <td>1.13740</td>\n",
              "      <td>-2.2390</td>\n",
              "      <td>-0.65476</td>\n",
              "      <td>-2.79010</td>\n",
              "      <td>0.65485</td>\n",
              "      <td>0.22724</td>\n",
              "      <td>12.133143</td>\n",
              "      <td>2.595286</td>\n",
              "      <td>2.874913</td>\n",
              "    </tr>\n",
              "  </tbody>\n",
              "</table>\n",
              "</div>"
            ],
            "text/plain": [
              "        Ax      Ay       Az       Lx  ...       Gz         MA        ML        MG\n",
              "0 -1.81150 -14.873 -1.34840 -1.26910  ...  0.23976  15.043465  5.302856  3.239893\n",
              "1  0.24517 -14.070 -0.84446  0.70147  ...  0.40745  14.097451  4.357177  1.859419\n",
              "2 -0.57205 -14.628 -1.75700 -0.21760  ...  0.29230  14.744242  4.971531  1.127458\n",
              "3 -0.69464 -12.939 -3.09180 -0.32273  ...  0.34972  13.321392  3.890337  2.600991\n",
              "4  0.87170 -12.000 -1.56630  1.13740  ...  0.22724  12.133143  2.595286  2.874913\n",
              "\n",
              "[5 rows x 12 columns]"
            ]
          },
          "metadata": {
            "tags": []
          },
          "execution_count": 8
        }
      ]
    },
    {
      "cell_type": "code",
      "metadata": {
        "colab": {
          "base_uri": "https://localhost:8080/",
          "height": 202
        },
        "id": "19B6pk4qLfGc",
        "outputId": "0b047bea-d75d-4646-d9b4-e97e820f8d13"
      },
      "source": [
        "train_y.head()"
      ],
      "execution_count": null,
      "outputs": [
        {
          "output_type": "execute_result",
          "data": {
            "text/html": [
              "<div>\n",
              "<style scoped>\n",
              "    .dataframe tbody tr th:only-of-type {\n",
              "        vertical-align: middle;\n",
              "    }\n",
              "\n",
              "    .dataframe tbody tr th {\n",
              "        vertical-align: top;\n",
              "    }\n",
              "\n",
              "    .dataframe thead th {\n",
              "        text-align: right;\n",
              "    }\n",
              "</style>\n",
              "<table border=\"1\" class=\"dataframe\">\n",
              "  <thead>\n",
              "    <tr style=\"text-align: right;\">\n",
              "      <th></th>\n",
              "      <th>Activity_Label</th>\n",
              "    </tr>\n",
              "  </thead>\n",
              "  <tbody>\n",
              "    <tr>\n",
              "      <th>0</th>\n",
              "      <td>walking</td>\n",
              "    </tr>\n",
              "    <tr>\n",
              "      <th>1</th>\n",
              "      <td>walking</td>\n",
              "    </tr>\n",
              "    <tr>\n",
              "      <th>2</th>\n",
              "      <td>walking</td>\n",
              "    </tr>\n",
              "    <tr>\n",
              "      <th>3</th>\n",
              "      <td>walking</td>\n",
              "    </tr>\n",
              "    <tr>\n",
              "      <th>4</th>\n",
              "      <td>walking</td>\n",
              "    </tr>\n",
              "  </tbody>\n",
              "</table>\n",
              "</div>"
            ],
            "text/plain": [
              "  Activity_Label\n",
              "0        walking\n",
              "1        walking\n",
              "2        walking\n",
              "3        walking\n",
              "4        walking"
            ]
          },
          "metadata": {
            "tags": []
          },
          "execution_count": 9
        }
      ]
    },
    {
      "cell_type": "markdown",
      "metadata": {
        "id": "3posqhwuLfGc"
      },
      "source": [
        "Next we use sliding window mechanism to generate data segments.\n",
        "We use Accelerometer, Linear acceleration and Gyroscope features and their sum of squares roots:\n"
      ]
    },
    {
      "cell_type": "code",
      "metadata": {
        "id": "PtiTI7cPLfGc"
      },
      "source": [
        "N_TIME_STEPS = 100 #sliding window length\n",
        "STEP = 50 #Sliding window step size\n",
        "N_FEATURES = 12 \n",
        "\n",
        "def generate_sequence(x, y, n_time_steps, step):\n",
        "    \n",
        "    segments = []\n",
        "    labels = []\n",
        "    for i in range(0, len(x) - n_time_steps, step):\n",
        "        ax = x['Ax'].values[i: i + n_time_steps]\n",
        "        ay = x['Ay'].values[i: i + n_time_steps]\n",
        "        az = x['Az'].values[i: i + n_time_steps]\n",
        "\n",
        "        lx = x['Lx'].values[i: i + n_time_steps]\n",
        "        ly = x['Ly'].values[i: i + n_time_steps]\n",
        "        lz = x['Lz'].values[i: i + n_time_steps]\n",
        "        \n",
        "        gx = x['Gx'].values[i: i + n_time_steps]\n",
        "        gy = x['Gy'].values[i: i + n_time_steps]\n",
        "        gz = x['Gz'].values[i: i + n_time_steps]\n",
        "\n",
        "        MA = x['MA'].values[i: i + n_time_steps]\n",
        "        ML = x['ML'].values[i: i + n_time_steps]\n",
        "        MG = x['MG'].values[i: i + n_time_steps]\n",
        "       \n",
        "        label = stats.mode(y['Activity_Label'][i: i + n_time_steps])[0][0]\n",
        "        segments.append([ax, ay, az, lx, ly, lz, gx, gy, gz, MA, ML, MG])\n",
        "        labels.append(label)\n",
        "        \n",
        "    return segments, labels\n",
        "\n",
        "train_X_seq, train_y_seq = generate_sequence(train_X, train_y, N_TIME_STEPS, STEP)\n",
        "test_X_seq, test_y_seq = generate_sequence(test_X, test_y, N_TIME_STEPS, STEP)"
      ],
      "execution_count": null,
      "outputs": []
    },
    {
      "cell_type": "code",
      "metadata": {
        "id": "ZrLrqUr3LfGc"
      },
      "source": [
        "# reshape input segments and one-hot encode labels\n",
        "def reshape_segments(x, y, n_time_steps, n_features):\n",
        "    \n",
        "    x_reshaped = []\n",
        "    x_temp = np.asarray(x, dtype=np.float32)\n",
        "    for temp in x_temp:\n",
        "      x_reshaped.append(temp.transpose())\n",
        "\n",
        "    x_reshaped = np.asarray(x_reshaped, dtype = np.float32)\n",
        "    y_reshaped = np.asarray(pd.get_dummies(y), dtype = np.float32)\n",
        "    return x_reshaped, y_reshaped\n",
        "\n",
        "X_train, y_train = reshape_segments(train_X_seq, train_y_seq, N_TIME_STEPS, N_FEATURES)\n",
        "X_test, y_test = reshape_segments(test_X_seq, test_y_seq, N_TIME_STEPS, N_FEATURES)"
      ],
      "execution_count": null,
      "outputs": []
    },
    {
      "cell_type": "code",
      "metadata": {
        "colab": {
          "base_uri": "https://localhost:8080/"
        },
        "id": "1r4X4BHoK4Vw",
        "outputId": "f4b6fb01-cf65-4605-8fb2-8e245b233695"
      },
      "source": [
        "X_train[0]"
      ],
      "execution_count": null,
      "outputs": [
        {
          "output_type": "execute_result",
          "data": {
            "text/plain": [
              "array([[ -1.8115   , -14.873    ,  -1.3484   , ...,  15.043466 ,\n",
              "          5.302856 ,   3.2398927],\n",
              "       [  0.24517  , -14.07     ,  -0.84446  , ...,  14.097451 ,\n",
              "          4.357177 ,   1.8594185],\n",
              "       [ -0.57205  , -14.628    ,  -1.757    , ...,  14.744242 ,\n",
              "          4.971531 ,   1.1274583],\n",
              "       ...,\n",
              "       [  1.3893   ,  -7.355    ,  -0.42223  , ...,   7.496963 ,\n",
              "          2.6530466,   2.8563182],\n",
              "       [  0.35413  ,  -7.7772   ,   0.36775  , ...,   7.793939 ,\n",
              "          2.1102092,   3.3793929],\n",
              "       [  0.7355   ,  -7.9543   ,   0.35413  , ...,   7.9960775,\n",
              "          1.8348402,   3.224824 ]], dtype=float32)"
            ]
          },
          "metadata": {
            "tags": []
          },
          "execution_count": 12
        }
      ]
    },
    {
      "cell_type": "code",
      "metadata": {
        "colab": {
          "base_uri": "https://localhost:8080/"
        },
        "id": "2ocJnjQ9o7f0",
        "outputId": "98dbde5a-2622-4b79-bd06-fdb0a663b75a"
      },
      "source": [
        "X_test.shape"
      ],
      "execution_count": null,
      "outputs": [
        {
          "output_type": "execute_result",
          "data": {
            "text/plain": [
              "(5038, 100, 12)"
            ]
          },
          "metadata": {
            "tags": []
          },
          "execution_count": 15
        }
      ]
    },
    {
      "cell_type": "markdown",
      "metadata": {
        "id": "Q6MVYhtTLfGd"
      },
      "source": [
        "## Building the model"
      ]
    },
    {
      "cell_type": "code",
      "metadata": {
        "id": "PVLY8az6LfGd"
      },
      "source": [
        "from keras.regularizers import l2\n",
        "from keras.models import Sequential\n",
        "from keras.layers import Dense\n",
        "from keras.layers import LSTM\n",
        "from keras.layers import Flatten, BatchNormalization\n",
        "from keras.layers import Input\n",
        "from keras import optimizers\n",
        "\n",
        "N_CLASSES = 7\n",
        "N_HIDDEN_UNITS = 64\n",
        "L2 = 0.000001\n",
        "\n",
        "model = Sequential([\n",
        "    LSTM(N_HIDDEN_UNITS, return_sequences=True, input_shape=(N_TIME_STEPS, N_FEATURES), \n",
        "        kernel_initializer='orthogonal', kernel_regularizer=l2(L2), recurrent_regularizer=l2(L2),\n",
        "        bias_regularizer=l2(L2), name=\"LSTM_1\"),\n",
        "    Flatten(name='Flatten'),\n",
        "    Dense(N_CLASSES, activation='softmax', kernel_regularizer=l2(L2), bias_regularizer=l2(L2), name=\"Dense_2\")\n",
        "])"
      ],
      "execution_count": null,
      "outputs": []
    },
    {
      "cell_type": "code",
      "metadata": {
        "id": "Qy-wC8q5LfGd",
        "colab": {
          "base_uri": "https://localhost:8080/"
        },
        "outputId": "b8a46a01-beaf-4d75-a398-0567a17db89f"
      },
      "source": [
        "model.summary()"
      ],
      "execution_count": null,
      "outputs": [
        {
          "output_type": "stream",
          "text": [
            "Model: \"sequential\"\n",
            "_________________________________________________________________\n",
            "Layer (type)                 Output Shape              Param #   \n",
            "=================================================================\n",
            "LSTM_1 (LSTM)                (None, 100, 64)           19712     \n",
            "_________________________________________________________________\n",
            "Flatten (Flatten)            (None, 6400)              0         \n",
            "_________________________________________________________________\n",
            "Dense_2 (Dense)              (None, 7)                 44807     \n",
            "=================================================================\n",
            "Total params: 64,519\n",
            "Trainable params: 64,519\n",
            "Non-trainable params: 0\n",
            "_________________________________________________________________\n"
          ],
          "name": "stdout"
        }
      ]
    },
    {
      "cell_type": "markdown",
      "metadata": {
        "id": "eAf4-HRMLfGe"
      },
      "source": [
        "## Training & Evaluation"
      ]
    },
    {
      "cell_type": "code",
      "metadata": {
        "id": "wnqnRxTbLfGe"
      },
      "source": [
        "opt = optimizers.Adam(lr=0.0001)\n",
        "\n",
        "model.compile(optimizer=opt,\n",
        "              loss='categorical_crossentropy',\n",
        "              metrics=['accuracy'])\n"
      ],
      "execution_count": null,
      "outputs": []
    },
    {
      "cell_type": "code",
      "metadata": {
        "id": "rPAEj6y8LfGe",
        "colab": {
          "base_uri": "https://localhost:8080/"
        },
        "outputId": "e1068dfa-07d9-439a-8d78-b9a96ee8a1da"
      },
      "source": [
        "BATCH_SIZE = 1024\n",
        "N_EPOCHS = 10\n",
        "\n",
        "history = model.fit(X_train, y_train,\n",
        "                    batch_size=BATCH_SIZE, epochs=N_EPOCHS,\n",
        "                    validation_data=(X_test, y_test))\n"
      ],
      "execution_count": null,
      "outputs": [
        {
          "output_type": "stream",
          "text": [
            "Epoch 1/10\n",
            "20/20 [==============================] - 32s 693ms/step - loss: 1.8208 - accuracy: 0.3492 - val_loss: 1.2837 - val_accuracy: 0.6046\n",
            "Epoch 2/10\n",
            "20/20 [==============================] - 13s 640ms/step - loss: 1.0603 - accuracy: 0.7266 - val_loss: 0.8578 - val_accuracy: 0.7441\n",
            "Epoch 3/10\n",
            "20/20 [==============================] - 13s 635ms/step - loss: 0.6808 - accuracy: 0.8284 - val_loss: 0.6269 - val_accuracy: 0.8178\n",
            "Epoch 4/10\n",
            "20/20 [==============================] - 13s 635ms/step - loss: 0.4797 - accuracy: 0.8994 - val_loss: 0.4886 - val_accuracy: 0.8545\n",
            "Epoch 5/10\n",
            "20/20 [==============================] - 13s 631ms/step - loss: 0.3472 - accuracy: 0.9279 - val_loss: 0.3915 - val_accuracy: 0.8811\n",
            "Epoch 6/10\n",
            "20/20 [==============================] - 13s 638ms/step - loss: 0.2602 - accuracy: 0.9463 - val_loss: 0.3214 - val_accuracy: 0.9039\n",
            "Epoch 7/10\n",
            "20/20 [==============================] - 13s 642ms/step - loss: 0.1898 - accuracy: 0.9610 - val_loss: 0.2482 - val_accuracy: 0.9381\n",
            "Epoch 8/10\n",
            "20/20 [==============================] - 13s 632ms/step - loss: 0.1444 - accuracy: 0.9711 - val_loss: 0.2086 - val_accuracy: 0.9438\n",
            "Epoch 9/10\n",
            "20/20 [==============================] - 13s 635ms/step - loss: 0.1054 - accuracy: 0.9773 - val_loss: 0.1689 - val_accuracy: 0.9577\n",
            "Epoch 10/10\n",
            "20/20 [==============================] - 13s 632ms/step - loss: 0.0846 - accuracy: 0.9814 - val_loss: 0.1521 - val_accuracy: 0.9575\n"
          ],
          "name": "stdout"
        }
      ]
    },
    {
      "cell_type": "code",
      "metadata": {
        "id": "S6KL6X4GgVGm"
      },
      "source": [
        "# tf.random.set_seed(42)\n",
        "# batch_size_list = [128, 256, 512, 1024]\n",
        "# hidden_layer_list = [8, 16, 32, 64]\n",
        "# lr_list = [1, 0.1, 0.01, 0.001, 0.0001]\n",
        "# accuracy_list = []\n",
        "\n",
        "# for num in lr_list:\n",
        "#   LR = num\n",
        "#   N_HIDDEN_UNITS = 64\n",
        "#   model = Sequential([\n",
        "#       LSTM(N_HIDDEN_UNITS, return_sequences=True, input_shape=(N_TIME_STEPS, N_FEATURES), kernel_initializer='orthogonal', kernel_regularizer=l2(L2), recurrent_regularizer=l2(L2), bias_regularizer=l2(L2), name=\"LSTM_1\"),\n",
        "#       Flatten(name='Flatten'),\n",
        "#       Dense(N_HIDDEN_UNITS, activation='relu', kernel_regularizer=l2(L2), bias_regularizer=l2(L2), name=\"Dense_1\"),\n",
        "#       Dense(N_CLASSES, activation='softmax', kernel_regularizer=l2(L2), bias_regularizer=l2(L2), name=\"Dense_2\")\n",
        "#   ])\n",
        "#   opt = optimizers.Adam(lr=LR)\n",
        "#   model.compile(optimizer=opt, loss='categorical_crossentropy', metrics=['accuracy'])\n",
        "#   BATCH_SIZE = 256\n",
        "#   history = model.fit(X_train, y_train,\n",
        "#                     batch_size=BATCH_SIZE, epochs=N_EPOCHS,\n",
        "#                     validation_data=(X_test, y_test))\n",
        "#   accuracy_list.append(history.history['accuracy'])\n",
        "\n",
        "# plt.plot(accuracy_list[0], label='128')\n",
        "# plt.plot(accuracy_list[1], label='256')\n",
        "# plt.plot(accuracy_list[2], label='512')\n",
        "# plt.plot(accuracy_list[3], label='1024')\n",
        "\n",
        "# plt.xlabel('Epoch number')\n",
        "# plt.ylabel('Accuracy')\n",
        "# plt.title('Accuracy depends on hidden layers')\n",
        "# plt.legend()\n",
        "# plt.show();"
      ],
      "execution_count": null,
      "outputs": []
    },
    {
      "cell_type": "code",
      "metadata": {
        "colab": {
          "base_uri": "https://localhost:8080/",
          "height": 294
        },
        "id": "ZefbNs8KvMCT",
        "outputId": "b04d8b1f-e97b-4938-ff2d-cb356ca3781e"
      },
      "source": [
        "# plt.plot(accuracy_list[0], label='1')\n",
        "# plt.plot(accuracy_list[1], label='0.1')\n",
        "# plt.plot(accuracy_list[2], label='0.01')\n",
        "# plt.plot(accuracy_list[3], label='0.001')\n",
        "# plt.plot(accuracy_list[4], label='0.0001')\n",
        "\n",
        "# plt.xlabel('Epoch number')\n",
        "# plt.ylabel('Accuracy')\n",
        "# plt.title('Accuracy depends on learning rate')\n",
        "# plt.legend()\n",
        "# plt.show();"
      ],
      "execution_count": null,
      "outputs": [
        {
          "output_type": "display_data",
          "data": {
            "image/png": "[encoded data removed]",
            "text/plain": [
              "<Figure size 432x288 with 1 Axes>"
            ]
          },
          "metadata": {
            "tags": [],
            "needs_background": "light"
          }
        }
      ]
    },
    {
      "cell_type": "code",
      "metadata": {
        "id": "JvDlZzV_P16L"
      },
      "source": [
        "# from numpy import mean\n",
        "# from numpy import std\n",
        "\n",
        "# #evaluation\n",
        "# def evaluate_model():\n",
        "#   N_CLASSES = 7\n",
        "#   N_HIDDEN_UNITS = 64\n",
        "#   L2 = 0.000001\n",
        "\n",
        "#   model = Sequential([\n",
        "#       LSTM(N_HIDDEN_UNITS, return_sequences=True, input_shape=(N_TIME_STEPS, N_FEATURES), \n",
        "#           kernel_initializer='orthogonal', kernel_regularizer=l2(L2), recurrent_regularizer=l2(L2),\n",
        "#           bias_regularizer=l2(L2), name=\"LSTM_1\"),\n",
        "#       Flatten(name='Flatten'),\n",
        "#       Dense(N_CLASSES, activation='softmax', kernel_regularizer=l2(L2), bias_regularizer=l2(L2), name=\"Dense_2\")\n",
        "#   ])\n",
        "#   opt = optimizers.Adam(lr=0.0001)\n",
        "\n",
        "#   model.compile(optimizer=opt,\n",
        "#                 loss='categorical_crossentropy',\n",
        "#                 metrics=['accuracy'])\n",
        "#   BATCH_SIZE = 1024\n",
        "#   N_EPOCHS = 10\n",
        "\n",
        "#   history = model.fit(X_train, y_train,\n",
        "#                       batch_size=BATCH_SIZE, epochs=N_EPOCHS,\n",
        "#                       validation_data=(X_test, y_test))\n",
        "#   _, accuracy = model.evaluate(X_test, y_test, batch_size=BATCH_SIZE, verbose=0)\n",
        "#   return accuracy\n",
        "\n",
        "# # summarize scores\n",
        "# def summarize_results(scores):\n",
        "# \tprint(scores)\n",
        "# \tm, s = mean(scores), std(scores)\n",
        "# \tprint('Accuracy: %.3f%% (+/-%.3f)' % (m, s))\n",
        " \n",
        "# # run an experiment\n",
        "# def run_experiment(repeats=10):\n",
        "# \t# repeat experiment\n",
        "# \tscores = list()\n",
        "# \tfor r in range(repeats):\n",
        "# \t\tscore = evaluate_model()\n",
        "# \t\tscore = score * 100.0\n",
        "# \t\tprint('>#%d: %.3f' % (r+1, score))\n",
        "# \t\tscores.append(score)\n",
        "# \t# summarize results\n",
        "# \tsummarize_results(scores)"
      ],
      "execution_count": null,
      "outputs": []
    },
    {
      "cell_type": "code",
      "metadata": {
        "colab": {
          "base_uri": "https://localhost:8080/"
        },
        "id": "pONNUnvjQtnv",
        "outputId": "4067df83-ae7b-4ecd-ad14-a214bb932b07"
      },
      "source": [
        "# # run the experiment\n",
        "# run_experiment()"
      ],
      "execution_count": null,
      "outputs": [
        {
          "output_type": "stream",
          "text": [
            "Epoch 1/10\n",
            "20/20 [==============================] - 16s 711ms/step - loss: 1.6799 - accuracy: 0.3647 - val_loss: 1.1884 - val_accuracy: 0.6840\n",
            "Epoch 2/10\n",
            "20/20 [==============================] - 13s 667ms/step - loss: 1.0064 - accuracy: 0.7533 - val_loss: 0.8169 - val_accuracy: 0.7948\n",
            "Epoch 3/10\n",
            "20/20 [==============================] - 13s 671ms/step - loss: 0.6761 - accuracy: 0.8477 - val_loss: 0.6096 - val_accuracy: 0.8392\n",
            "Epoch 4/10\n",
            "20/20 [==============================] - 13s 669ms/step - loss: 0.4862 - accuracy: 0.9011 - val_loss: 0.4794 - val_accuracy: 0.8666\n",
            "Epoch 5/10\n",
            "20/20 [==============================] - 14s 678ms/step - loss: 0.3583 - accuracy: 0.9318 - val_loss: 0.3858 - val_accuracy: 0.8873\n",
            "Epoch 6/10\n",
            "20/20 [==============================] - 13s 672ms/step - loss: 0.2658 - accuracy: 0.9496 - val_loss: 0.3111 - val_accuracy: 0.9085\n",
            "Epoch 7/10\n",
            "20/20 [==============================] - 13s 673ms/step - loss: 0.1974 - accuracy: 0.9606 - val_loss: 0.2546 - val_accuracy: 0.9345\n",
            "Epoch 8/10\n",
            "20/20 [==============================] - 13s 675ms/step - loss: 0.1494 - accuracy: 0.9698 - val_loss: 0.2152 - val_accuracy: 0.9464\n",
            "Epoch 9/10\n",
            "20/20 [==============================] - 13s 670ms/step - loss: 0.1165 - accuracy: 0.9757 - val_loss: 0.1855 - val_accuracy: 0.9551\n",
            "Epoch 10/10\n",
            "20/20 [==============================] - 14s 678ms/step - loss: 0.0941 - accuracy: 0.9801 - val_loss: 0.1718 - val_accuracy: 0.9557\n",
            ">#1: 95.574\n",
            "Epoch 1/10\n",
            "20/20 [==============================] - 17s 716ms/step - loss: 1.8611 - accuracy: 0.2759 - val_loss: 1.3219 - val_accuracy: 0.6026\n",
            "Epoch 2/10\n",
            "20/20 [==============================] - 13s 667ms/step - loss: 1.1314 - accuracy: 0.6946 - val_loss: 0.9311 - val_accuracy: 0.7815\n",
            "Epoch 3/10\n",
            "20/20 [==============================] - 13s 673ms/step - loss: 0.7628 - accuracy: 0.8381 - val_loss: 0.6743 - val_accuracy: 0.8561\n",
            "Epoch 4/10\n",
            "20/20 [==============================] - 14s 675ms/step - loss: 0.5294 - accuracy: 0.9033 - val_loss: 0.5026 - val_accuracy: 0.8783\n",
            "Epoch 5/10\n",
            "20/20 [==============================] - 13s 671ms/step - loss: 0.3643 - accuracy: 0.9312 - val_loss: 0.3781 - val_accuracy: 0.9135\n",
            "Epoch 6/10\n",
            "20/20 [==============================] - 13s 669ms/step - loss: 0.2533 - accuracy: 0.9480 - val_loss: 0.2892 - val_accuracy: 0.9391\n",
            "Epoch 7/10\n",
            "20/20 [==============================] - 13s 667ms/step - loss: 0.1854 - accuracy: 0.9568 - val_loss: 0.2348 - val_accuracy: 0.9516\n",
            "Epoch 8/10\n",
            "20/20 [==============================] - 13s 672ms/step - loss: 0.1418 - accuracy: 0.9624 - val_loss: 0.1986 - val_accuracy: 0.9538\n",
            "Epoch 9/10\n",
            "20/20 [==============================] - 13s 670ms/step - loss: 0.1145 - accuracy: 0.9708 - val_loss: 0.1809 - val_accuracy: 0.9504\n",
            "Epoch 10/10\n",
            "20/20 [==============================] - 14s 681ms/step - loss: 0.0961 - accuracy: 0.9769 - val_loss: 0.1620 - val_accuracy: 0.9543\n",
            ">#2: 95.435\n",
            "Epoch 1/10\n",
            "20/20 [==============================] - 17s 710ms/step - loss: 1.8374 - accuracy: 0.2736 - val_loss: 1.3101 - val_accuracy: 0.6431\n",
            "Epoch 2/10\n",
            "20/20 [==============================] - 14s 685ms/step - loss: 1.1408 - accuracy: 0.7449 - val_loss: 0.9120 - val_accuracy: 0.7942\n",
            "Epoch 3/10\n",
            "20/20 [==============================] - 14s 681ms/step - loss: 0.7695 - accuracy: 0.8354 - val_loss: 0.6769 - val_accuracy: 0.8192\n",
            "Epoch 4/10\n",
            "20/20 [==============================] - 14s 689ms/step - loss: 0.5428 - accuracy: 0.8929 - val_loss: 0.5298 - val_accuracy: 0.8446\n",
            "Epoch 5/10\n",
            "20/20 [==============================] - 14s 703ms/step - loss: 0.3913 - accuracy: 0.9282 - val_loss: 0.4246 - val_accuracy: 0.8702\n",
            "Epoch 6/10\n",
            "20/20 [==============================] - 14s 696ms/step - loss: 0.2770 - accuracy: 0.9479 - val_loss: 0.3430 - val_accuracy: 0.8976\n",
            "Epoch 7/10\n",
            "20/20 [==============================] - 14s 693ms/step - loss: 0.1955 - accuracy: 0.9613 - val_loss: 0.2857 - val_accuracy: 0.9049\n",
            "Epoch 8/10\n",
            "20/20 [==============================] - 14s 692ms/step - loss: 0.1419 - accuracy: 0.9685 - val_loss: 0.2372 - val_accuracy: 0.9174\n",
            "Epoch 9/10\n",
            "20/20 [==============================] - 14s 692ms/step - loss: 0.1088 - accuracy: 0.9745 - val_loss: 0.2245 - val_accuracy: 0.9174\n",
            "Epoch 10/10\n",
            "20/20 [==============================] - 14s 698ms/step - loss: 0.0925 - accuracy: 0.9790 - val_loss: 0.2189 - val_accuracy: 0.9220\n",
            ">#3: 92.199\n",
            "Epoch 1/10\n",
            "20/20 [==============================] - 17s 729ms/step - loss: 1.7358 - accuracy: 0.3553 - val_loss: 1.2226 - val_accuracy: 0.7150\n",
            "Epoch 2/10\n",
            "20/20 [==============================] - 14s 682ms/step - loss: 1.0379 - accuracy: 0.7798 - val_loss: 0.8257 - val_accuracy: 0.8551\n",
            "Epoch 3/10\n",
            "20/20 [==============================] - 14s 691ms/step - loss: 0.6818 - accuracy: 0.8695 - val_loss: 0.5827 - val_accuracy: 0.9039\n",
            "Epoch 4/10\n",
            "20/20 [==============================] - 14s 679ms/step - loss: 0.4772 - accuracy: 0.9055 - val_loss: 0.4345 - val_accuracy: 0.9131\n",
            "Epoch 5/10\n",
            "20/20 [==============================] - 13s 670ms/step - loss: 0.3448 - accuracy: 0.9308 - val_loss: 0.3284 - val_accuracy: 0.9482\n",
            "Epoch 6/10\n",
            "20/20 [==============================] - 13s 662ms/step - loss: 0.2504 - accuracy: 0.9529 - val_loss: 0.2569 - val_accuracy: 0.9528\n",
            "Epoch 7/10\n",
            "20/20 [==============================] - 13s 658ms/step - loss: 0.1792 - accuracy: 0.9607 - val_loss: 0.2062 - val_accuracy: 0.9524\n",
            "Epoch 8/10\n",
            "20/20 [==============================] - 13s 665ms/step - loss: 0.1293 - accuracy: 0.9713 - val_loss: 0.1781 - val_accuracy: 0.9450\n",
            "Epoch 9/10\n",
            "20/20 [==============================] - 13s 666ms/step - loss: 0.1006 - accuracy: 0.9772 - val_loss: 0.1698 - val_accuracy: 0.9399\n",
            "Epoch 10/10\n",
            "20/20 [==============================] - 13s 668ms/step - loss: 0.0792 - accuracy: 0.9803 - val_loss: 0.1672 - val_accuracy: 0.9410\n",
            ">#4: 94.105\n",
            "Epoch 1/10\n",
            "20/20 [==============================] - 16s 709ms/step - loss: 1.8995 - accuracy: 0.2294 - val_loss: 1.3760 - val_accuracy: 0.6110\n",
            "Epoch 2/10\n",
            "20/20 [==============================] - 13s 669ms/step - loss: 1.2467 - accuracy: 0.6473 - val_loss: 0.9987 - val_accuracy: 0.7961\n",
            "Epoch 3/10\n",
            "20/20 [==============================] - 13s 672ms/step - loss: 0.8794 - accuracy: 0.8188 - val_loss: 0.7354 - val_accuracy: 0.8595\n",
            "Epoch 4/10\n",
            "20/20 [==============================] - 13s 667ms/step - loss: 0.6272 - accuracy: 0.8843 - val_loss: 0.5483 - val_accuracy: 0.9029\n",
            "Epoch 5/10\n",
            "20/20 [==============================] - 14s 680ms/step - loss: 0.4519 - accuracy: 0.9216 - val_loss: 0.4078 - val_accuracy: 0.9337\n",
            "Epoch 6/10\n",
            "20/20 [==============================] - 14s 681ms/step - loss: 0.3241 - accuracy: 0.9409 - val_loss: 0.3017 - val_accuracy: 0.9464\n",
            "Epoch 7/10\n",
            "20/20 [==============================] - 13s 675ms/step - loss: 0.2321 - accuracy: 0.9535 - val_loss: 0.2260 - val_accuracy: 0.9653\n",
            "Epoch 8/10\n",
            "20/20 [==============================] - 13s 672ms/step - loss: 0.1702 - accuracy: 0.9630 - val_loss: 0.1752 - val_accuracy: 0.9724\n",
            "Epoch 9/10\n",
            "20/20 [==============================] - 13s 668ms/step - loss: 0.1294 - accuracy: 0.9682 - val_loss: 0.1436 - val_accuracy: 0.9776\n",
            "Epoch 10/10\n",
            "20/20 [==============================] - 13s 674ms/step - loss: 0.1004 - accuracy: 0.9762 - val_loss: 0.1243 - val_accuracy: 0.9811\n",
            ">#5: 98.114\n",
            "Epoch 1/10\n",
            "20/20 [==============================] - 17s 718ms/step - loss: 1.9104 - accuracy: 0.2830 - val_loss: 1.3229 - val_accuracy: 0.5846\n",
            "Epoch 2/10\n",
            "20/20 [==============================] - 13s 677ms/step - loss: 1.0913 - accuracy: 0.7240 - val_loss: 0.9283 - val_accuracy: 0.7255\n",
            "Epoch 3/10\n",
            "20/20 [==============================] - 14s 679ms/step - loss: 0.7228 - accuracy: 0.8317 - val_loss: 0.6922 - val_accuracy: 0.8231\n",
            "Epoch 4/10\n",
            "20/20 [==============================] - 14s 682ms/step - loss: 0.5142 - accuracy: 0.8968 - val_loss: 0.5377 - val_accuracy: 0.8724\n",
            "Epoch 5/10\n",
            "20/20 [==============================] - 14s 688ms/step - loss: 0.3670 - accuracy: 0.9442 - val_loss: 0.4253 - val_accuracy: 0.8948\n",
            "Epoch 6/10\n",
            "20/20 [==============================] - 14s 678ms/step - loss: 0.2560 - accuracy: 0.9570 - val_loss: 0.3347 - val_accuracy: 0.9115\n",
            "Epoch 7/10\n",
            "20/20 [==============================] - 13s 671ms/step - loss: 0.1821 - accuracy: 0.9624 - val_loss: 0.2808 - val_accuracy: 0.9190\n",
            "Epoch 8/10\n",
            "20/20 [==============================] - 13s 674ms/step - loss: 0.1315 - accuracy: 0.9700 - val_loss: 0.2277 - val_accuracy: 0.9287\n",
            "Epoch 9/10\n",
            "20/20 [==============================] - 13s 677ms/step - loss: 0.1018 - accuracy: 0.9749 - val_loss: 0.2117 - val_accuracy: 0.9252\n",
            "Epoch 10/10\n",
            "20/20 [==============================] - 13s 677ms/step - loss: 0.0800 - accuracy: 0.9793 - val_loss: 0.1878 - val_accuracy: 0.9260\n",
            ">#6: 92.596\n",
            "Epoch 1/10\n",
            "20/20 [==============================] - 17s 720ms/step - loss: 1.7164 - accuracy: 0.3353 - val_loss: 1.1825 - val_accuracy: 0.6701\n",
            "Epoch 2/10\n",
            "20/20 [==============================] - 14s 688ms/step - loss: 1.0182 - accuracy: 0.7736 - val_loss: 0.8265 - val_accuracy: 0.8106\n",
            "Epoch 3/10\n",
            "20/20 [==============================] - 14s 685ms/step - loss: 0.6786 - accuracy: 0.8612 - val_loss: 0.5981 - val_accuracy: 0.8696\n",
            "Epoch 4/10\n",
            "20/20 [==============================] - 14s 690ms/step - loss: 0.4761 - accuracy: 0.9111 - val_loss: 0.4596 - val_accuracy: 0.8984\n",
            "Epoch 5/10\n",
            "20/20 [==============================] - 14s 685ms/step - loss: 0.3475 - accuracy: 0.9348 - val_loss: 0.3645 - val_accuracy: 0.9180\n",
            "Epoch 6/10\n",
            "20/20 [==============================] - 14s 685ms/step - loss: 0.2550 - accuracy: 0.9481 - val_loss: 0.2888 - val_accuracy: 0.9274\n",
            "Epoch 7/10\n",
            "20/20 [==============================] - 14s 683ms/step - loss: 0.1829 - accuracy: 0.9631 - val_loss: 0.2475 - val_accuracy: 0.9228\n",
            "Epoch 8/10\n",
            "20/20 [==============================] - 14s 684ms/step - loss: 0.1340 - accuracy: 0.9723 - val_loss: 0.2129 - val_accuracy: 0.9315\n",
            "Epoch 9/10\n",
            "20/20 [==============================] - 14s 680ms/step - loss: 0.1067 - accuracy: 0.9776 - val_loss: 0.1941 - val_accuracy: 0.9337\n",
            "Epoch 10/10\n",
            "20/20 [==============================] - 14s 687ms/step - loss: 0.0829 - accuracy: 0.9810 - val_loss: 0.1739 - val_accuracy: 0.9397\n",
            ">#7: 93.966\n",
            "Epoch 1/10\n",
            "20/20 [==============================] - 17s 702ms/step - loss: 1.8386 - accuracy: 0.2705 - val_loss: 1.2905 - val_accuracy: 0.6306\n",
            "Epoch 2/10\n",
            "20/20 [==============================] - 13s 669ms/step - loss: 1.1182 - accuracy: 0.7314 - val_loss: 0.9370 - val_accuracy: 0.7289\n",
            "Epoch 3/10\n",
            "20/20 [==============================] - 13s 671ms/step - loss: 0.7799 - accuracy: 0.8247 - val_loss: 0.7024 - val_accuracy: 0.7944\n",
            "Epoch 4/10\n",
            "20/20 [==============================] - 13s 668ms/step - loss: 0.5649 - accuracy: 0.8923 - val_loss: 0.5492 - val_accuracy: 0.8525\n",
            "Epoch 5/10\n",
            "20/20 [==============================] - 13s 677ms/step - loss: 0.4284 - accuracy: 0.9223 - val_loss: 0.4467 - val_accuracy: 0.8761\n",
            "Epoch 6/10\n",
            "20/20 [==============================] - 14s 681ms/step - loss: 0.3272 - accuracy: 0.9377 - val_loss: 0.3710 - val_accuracy: 0.8932\n",
            "Epoch 7/10\n",
            "20/20 [==============================] - 13s 675ms/step - loss: 0.2510 - accuracy: 0.9467 - val_loss: 0.3125 - val_accuracy: 0.9025\n",
            "Epoch 8/10\n",
            "20/20 [==============================] - 13s 671ms/step - loss: 0.1877 - accuracy: 0.9570 - val_loss: 0.2683 - val_accuracy: 0.9190\n",
            "Epoch 9/10\n",
            "20/20 [==============================] - 13s 669ms/step - loss: 0.1456 - accuracy: 0.9632 - val_loss: 0.2434 - val_accuracy: 0.9202\n",
            "Epoch 10/10\n",
            "20/20 [==============================] - 13s 672ms/step - loss: 0.1139 - accuracy: 0.9702 - val_loss: 0.2283 - val_accuracy: 0.9186\n",
            ">#8: 91.862\n",
            "Epoch 1/10\n",
            "20/20 [==============================] - 16s 707ms/step - loss: 1.8378 - accuracy: 0.2279 - val_loss: 1.3615 - val_accuracy: 0.6129\n",
            "Epoch 2/10\n",
            "20/20 [==============================] - 13s 670ms/step - loss: 1.1824 - accuracy: 0.7227 - val_loss: 0.9835 - val_accuracy: 0.7590\n",
            "Epoch 3/10\n",
            "20/20 [==============================] - 13s 671ms/step - loss: 0.8173 - accuracy: 0.8227 - val_loss: 0.7306 - val_accuracy: 0.8029\n",
            "Epoch 4/10\n",
            "20/20 [==============================] - 13s 672ms/step - loss: 0.5909 - accuracy: 0.8732 - val_loss: 0.5683 - val_accuracy: 0.8444\n",
            "Epoch 5/10\n",
            "20/20 [==============================] - 13s 667ms/step - loss: 0.4590 - accuracy: 0.9044 - val_loss: 0.4640 - val_accuracy: 0.8767\n",
            "Epoch 6/10\n",
            "20/20 [==============================] - 13s 668ms/step - loss: 0.3550 - accuracy: 0.9278 - val_loss: 0.3859 - val_accuracy: 0.9049\n",
            "Epoch 7/10\n",
            "20/20 [==============================] - 13s 668ms/step - loss: 0.2856 - accuracy: 0.9369 - val_loss: 0.3238 - val_accuracy: 0.9172\n",
            "Epoch 8/10\n",
            "20/20 [==============================] - 13s 666ms/step - loss: 0.2267 - accuracy: 0.9462 - val_loss: 0.2682 - val_accuracy: 0.9343\n",
            "Epoch 9/10\n",
            "20/20 [==============================] - 13s 668ms/step - loss: 0.1730 - accuracy: 0.9538 - val_loss: 0.2309 - val_accuracy: 0.9403\n",
            "Epoch 10/10\n",
            "20/20 [==============================] - 13s 668ms/step - loss: 0.1415 - accuracy: 0.9604 - val_loss: 0.2038 - val_accuracy: 0.9444\n",
            ">#9: 94.442\n",
            "Epoch 1/10\n",
            "20/20 [==============================] - 16s 694ms/step - loss: 1.8056 - accuracy: 0.4070 - val_loss: 1.2725 - val_accuracy: 0.6423\n",
            "Epoch 2/10\n",
            "20/20 [==============================] - 13s 661ms/step - loss: 1.1166 - accuracy: 0.6991 - val_loss: 0.9196 - val_accuracy: 0.7844\n",
            "Epoch 3/10\n",
            "20/20 [==============================] - 13s 666ms/step - loss: 0.7664 - accuracy: 0.8323 - val_loss: 0.7038 - val_accuracy: 0.8285\n",
            "Epoch 4/10\n",
            "20/20 [==============================] - 13s 662ms/step - loss: 0.5517 - accuracy: 0.8937 - val_loss: 0.5556 - val_accuracy: 0.8563\n",
            "Epoch 5/10\n",
            "20/20 [==============================] - 13s 661ms/step - loss: 0.4088 - accuracy: 0.9305 - val_loss: 0.4368 - val_accuracy: 0.8877\n",
            "Epoch 6/10\n",
            "20/20 [==============================] - 13s 664ms/step - loss: 0.2936 - accuracy: 0.9500 - val_loss: 0.3481 - val_accuracy: 0.9129\n",
            "Epoch 7/10\n",
            "20/20 [==============================] - 13s 668ms/step - loss: 0.2132 - accuracy: 0.9579 - val_loss: 0.2919 - val_accuracy: 0.9202\n",
            "Epoch 8/10\n",
            "20/20 [==============================] - 14s 680ms/step - loss: 0.1551 - accuracy: 0.9648 - val_loss: 0.2431 - val_accuracy: 0.9311\n",
            "Epoch 9/10\n",
            "20/20 [==============================] - 13s 677ms/step - loss: 0.1197 - accuracy: 0.9713 - val_loss: 0.2172 - val_accuracy: 0.9381\n",
            "Epoch 10/10\n",
            "20/20 [==============================] - 13s 673ms/step - loss: 0.0933 - accuracy: 0.9782 - val_loss: 0.1976 - val_accuracy: 0.9363\n",
            ">#10: 93.628\n",
            "[95.57363986968994, 95.43469548225403, 92.1992838382721, 94.10480260848999, 98.11432957649231, 92.59626865386963, 93.96585822105408, 91.86185002326965, 94.44223642349243, 93.62842440605164]\n",
            "Accuracy: 94.192% (+/-1.767)\n"
          ],
          "name": "stdout"
        }
      ]
    },
    {
      "cell_type": "markdown",
      "metadata": {
        "id": "WLD3SlxELfGe"
      },
      "source": [
        "## Confusion Matrix"
      ]
    },
    {
      "cell_type": "code",
      "metadata": {
        "id": "W037ZTHdLfGe",
        "colab": {
          "base_uri": "https://localhost:8080/",
          "height": 861
        },
        "outputId": "a77d3590-bace-4b4f-f0a7-ab3213e342e1"
      },
      "source": [
        "from sklearn.metrics import accuracy_score, f1_score, precision_score, recall_score\n",
        "y_pred_ohe = model.predict(X_test)\n",
        "y_pred_labels = np.argmax(y_pred_ohe, axis=1)\n",
        "y_true_labels = np.argmax(y_test, axis=1)\n",
        "confusion_matrix = metrics.confusion_matrix(y_true=y_true_labels, y_pred=y_pred_labels)\n",
        "\n",
        "LABELS = ['Biking' ,' Downstairs', 'Jogging', 'Sitting', 'Standing', 'Upstairs', 'Walking']\n",
        "\n",
        "plt.figure(figsize=(16, 14))\n",
        "sns.set(style='whitegrid', palette='muted', font_scale=1.5)\n",
        "sns.heatmap(confusion_matrix, xticklabels=LABELS, yticklabels=LABELS, annot=True, fmt=\"d\");\n",
        "plt.title(\"Confusion matrix\")\n",
        "plt.ylabel('True label')\n",
        "plt.xlabel('Predicted label')\n",
        "plt.show();\n"
      ],
      "execution_count": null,
      "outputs": [
        {
          "output_type": "display_data",
          "data": {
            "image/png": "[encoded data removed]",
            "text/plain": [
              "<Figure size 1152x1008 with 2 Axes>"
            ]
          },
          "metadata": {
            "tags": [],
            "needs_background": "light"
          }
        }
      ]
    },
    {
      "cell_type": "code",
      "metadata": {
        "colab": {
          "base_uri": "https://localhost:8080/"
        },
        "id": "QP6ccoyLi13c",
        "outputId": "598132ce-7b19-47b7-c7cd-c3f871040f2b"
      },
      "source": [
        "print(f1_score(y_true_labels, y_pred_labels, average='micro'))"
      ],
      "execution_count": null,
      "outputs": [
        {
          "output_type": "stream",
          "text": [
            "0.964271536323938\n"
          ],
          "name": "stdout"
        }
      ]
    },
    {
      "cell_type": "markdown",
      "metadata": {
        "id": "Ven-1WN1LfGf"
      },
      "source": [
        "## Exporting the model "
      ]
    },
    {
      "cell_type": "markdown",
      "metadata": {
        "id": "86f6ClknLfGf"
      },
      "source": [
        "Finally we export the trained model in a format which easily can be used in our android application for on-device inference. The exported model will be named \"frozen_HAR.pb\" and be stored under models directory:"
      ]
    },
    {
      "cell_type": "code",
      "metadata": {
        "id": "TylnBScPeXFn"
      },
      "source": [
        "# from keras import backend as K\n",
        "# from tensorflow.python.tools import freeze_graph\n",
        "# from tensorflow.python.tools import optimize_for_inference_lib\n",
        "\n",
        "# input_node_names= [\"LSTM_1_input\"]\n",
        "# output_node_name = \"Dense_2/Softmax\"\n",
        "# MODEL_NAME = \"HAR\"\n",
        "\n",
        "# tf.train.write_graph(K.get_session().graph_def, 'models', \\\n",
        "#         MODEL_NAME + '_graph.pbtxt')\n",
        "# saver = tf.train.Saver()\n",
        "# saver.save(K.get_session(), 'models/' + MODEL_NAME + '.chkp')\n",
        "\n",
        "# freeze_graph.freeze_graph('models/' + MODEL_NAME + '_graph.pbtxt', None, \\\n",
        "#     False, 'models/' + MODEL_NAME + '.chkp', output_node_name, \\\n",
        "#     \"save/restore_all\", \"save/Const:0\", \\\n",
        "#     'models/frozen_' + MODEL_NAME + '.pb', True, \"\")"
      ],
      "execution_count": null,
      "outputs": []
    },
    {
      "cell_type": "code",
      "metadata": {
        "id": "UWfJA7_DN3s9",
        "colab": {
          "base_uri": "https://localhost:8080/"
        },
        "outputId": "cfdd0a6e-1159-42f5-a9d0-99b19b6ea076"
      },
      "source": [
        "run_model = tf.function(lambda x: model(x))\n",
        "# This is important, let's fix the input size.\n",
        "BATCH_SIZE = 1\n",
        "\n",
        "concrete_func = run_model.get_concrete_function(\n",
        "    tf.TensorSpec([BATCH_SIZE, N_TIME_STEPS, N_FEATURES], model.inputs[0].dtype))\n",
        "\n",
        "# model directory.\n",
        "MODEL_DIR = \"keras_lstm\"\n",
        "model.save(MODEL_DIR, save_format=\"tf\", signatures=concrete_func)\n",
        "\n",
        "converter = tf.lite.TFLiteConverter.from_saved_model(MODEL_DIR)\n",
        "tflite_model = converter.convert()"
      ],
      "execution_count": null,
      "outputs": [
        {
          "output_type": "stream",
          "text": [
            "WARNING:absl:Found untraced functions such as lstm_cell_layer_call_and_return_conditional_losses, lstm_cell_layer_call_fn, lstm_cell_layer_call_fn, lstm_cell_layer_call_and_return_conditional_losses, lstm_cell_layer_call_and_return_conditional_losses while saving (showing 5 of 5). These functions will not be directly callable after loading.\n"
          ],
          "name": "stderr"
        },
        {
          "output_type": "stream",
          "text": [
            "INFO:tensorflow:Assets written to: keras_lstm/assets\n"
          ],
          "name": "stdout"
        },
        {
          "output_type": "stream",
          "text": [
            "INFO:tensorflow:Assets written to: keras_lstm/assets\n"
          ],
          "name": "stderr"
        }
      ]
    },
    {
      "cell_type": "code",
      "metadata": {
        "id": "ll1hTBjcWS3v"
      },
      "source": [
        "# Save the model.\n",
        "with open('har_tflite.tflite', 'wb') as f:\n",
        "  f.write(tflite_model)"
      ],
      "execution_count": null,
      "outputs": []
    },
    {
      "cell_type": "code",
      "metadata": {
        "id": "JG9Q-OueI7Yg"
      },
      "source": [
        "# !zip -r model.zip models"
      ],
      "execution_count": null,
      "outputs": []
    },
    {
      "cell_type": "code",
      "metadata": {
        "id": "MpN83PDxI9d_"
      },
      "source": [
        "# from google.colab import files\n",
        "# files.download(\"model1.tflite\")"
      ],
      "execution_count": null,
      "outputs": []
    }
  ]
}